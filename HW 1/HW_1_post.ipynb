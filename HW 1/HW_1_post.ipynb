{
 "cells": [
  {
   "cell_type": "markdown",
   "metadata": {},
   "source": [
    "# <center>HW #1</center>\n"
   ]
  },
  {
   "cell_type": "markdown",
   "metadata": {},
   "source": [
    "<div class=\"alert alert-block alert-warning\">Each assignment needs to be completed independently. Never ever copy others' work (even with minor modification, e.g. changing variable names). Anti-Plagiarism software will be used to check all submissions. </div>\n"
   ]
  },
  {
   "cell_type": "markdown",
   "metadata": {},
   "source": [
    "**Instructions**:\n",
    "\n",
    "- Please read the problem description carefully\n",
    "- Make sure to complete all requirements (shown as bullets) . In general, it would be much easier if you complete the requirements in the order as shown in the problem description\n"
   ]
  },
  {
   "cell_type": "markdown",
   "metadata": {},
   "source": [
    "**Problem Description**\n",
    "\n",
    "In this assignment, you'll write functions to analyze an article to find out the word distributions and key concepts.\n",
    "\n",
    "The packages you'll need for this assignment include numpy and pandas.\n"
   ]
  },
  {
   "cell_type": "markdown",
   "metadata": {},
   "source": [
    "## Q1. Define a function to analyze word counts in an input sentence\n",
    "\n",
    "Define a function named `tokenize(text)` which does the following:\n",
    "\n",
    "- accepts a sentence (i.e., `text` parameter) as an input\n",
    "- splits the sentence into a list of tokens by **space** (including tab, and new line).\n",
    "  - e.g., `it's a hello world!!!` will be split into tokens `[\"it's\", \"a\",\"hello\",\"world!!!\"]`\n",
    "- removes the **leading/trailing punctuations or spaces** of each token, if any\n",
    "  - e.g., `world!!! -> world`, while `it's` does not change\n",
    "  - hint, you can import module _string_, use `string.punctuation` to get a list of punctuations (say `puncts`), and then use function `strip(puncts)` to remove leading or trailing punctuations in each token\n",
    "- only keeps tokens with 2 or more characters, i.e. `len(token)>1`\n",
    "- converts all tokens into lower case\n",
    "- find the count of each unique token and save the counts as dictionary, i.e., `{world: 1, a: 1, ...}`\n",
    "- returns the dictionary\n"
   ]
  },
  {
   "cell_type": "code",
   "execution_count": 18,
   "metadata": {},
   "outputs": [],
   "source": [
    "import string\n",
    "import pandas as pd\n",
    "import numpy as np\n",
    "\n",
    "from IPython.core.interactiveshell import InteractiveShell\n",
    "InteractiveShell.ast_node_interactivity = \"all\"\n"
   ]
  },
  {
   "cell_type": "code",
   "execution_count": 19,
   "metadata": {},
   "outputs": [],
   "source": [
    "def tokenize(text):\n",
    "\n",
    "    # initialize a list\n",
    "    list = []\n",
    "    vocab = {}\n",
    "\n",
    "    # split by space (including \\tab and \\n)\n",
    "    list = text.split()\n",
    "\n",
    "    # clean up tokens\n",
    "    puncts = string.punctuation\n",
    "    for i in range(len(list)):\n",
    "        list[i] = list[i].strip(puncts).lower()\n",
    "        if(len(list[i]) > 1):\n",
    "            vocab[list[i]] = vocab.get(list[i], 0)+1\n",
    "\n",
    "    return vocab\n"
   ]
  },
  {
   "cell_type": "code",
   "execution_count": 20,
   "metadata": {},
   "outputs": [
    {
     "data": {
      "text/plain": [
       "{\"it's\": 1, 'hello': 2, 'world': 2, 'it': 1, 'is': 1, 'again': 1}"
      ]
     },
     "execution_count": 20,
     "metadata": {},
     "output_type": "execute_result"
    }
   ],
   "source": [
    "# test your code\n",
    "text = \"\"\"it's a hello world!!!\n",
    "           it is hello world again.\"\"\"\n",
    "tokenize(text)\n"
   ]
  },
  {
   "cell_type": "markdown",
   "metadata": {},
   "source": [
    "## Q2. Generate a document term matrix (DTM) as a numpy array\n",
    "\n",
    "Define a function `get_dtm(sents)` as follows:\n",
    "\n",
    "- accepts a list of sentences, i.e., `sents`, as an input\n",
    "- uses `tokenize` function you defined in Q1 to get the count dictionary for each sentence\n",
    "- pools the words from all the strings togehter to get a list of unique words, denoted as `unique_words`\n",
    "- creates a numpy array, say `dtm` with a shape (# of docs x # of unique words), and set the initial values to 0.\n",
    "- fills cell `dtm[i,j]` with the count of the `j`th word in the `i`th sentence\n",
    "- returns `dtm` and `unique_words`\n"
   ]
  },
  {
   "cell_type": "code",
   "execution_count": 21,
   "metadata": {},
   "outputs": [],
   "source": [
    "def get_dtm(sents):\n",
    "\n",
    "    unique_words = []\n",
    "    # process each sentence\n",
    "    for s in sents:\n",
    "        all_words = tokenize(s).keys()\n",
    "        for w in all_words:\n",
    "            if w not in unique_words:\n",
    "                unique_words.append(w)\n",
    "\n",
    "    # get all words\n",
    "    dtm = np.zeros((len(sents), len(unique_words)))\n",
    "    for i in range(len(sents)):\n",
    "        for j in range(len(unique_words)):\n",
    "            tokens = tokenize(sents[i])\n",
    "            if unique_words[j] in tokens.keys():\n",
    "                dtm[i, j] = tokens[unique_words[j]]\n",
    "\n",
    "    return dtm, unique_words\n"
   ]
  },
  {
   "cell_type": "code",
   "execution_count": 22,
   "metadata": {},
   "outputs": [
    {
     "data": {
      "text/html": [
       "<div>\n",
       "<style scoped>\n",
       "    .dataframe tbody tr th:only-of-type {\n",
       "        vertical-align: middle;\n",
       "    }\n",
       "\n",
       "    .dataframe tbody tr th {\n",
       "        vertical-align: top;\n",
       "    }\n",
       "\n",
       "    .dataframe thead th {\n",
       "        text-align: right;\n",
       "    }\n",
       "</style>\n",
       "<table border=\"1\" class=\"dataframe\">\n",
       "  <thead>\n",
       "    <tr style=\"text-align: right;\">\n",
       "      <th></th>\n",
       "      <th>text</th>\n",
       "    </tr>\n",
       "  </thead>\n",
       "  <tbody>\n",
       "    <tr>\n",
       "      <th>0</th>\n",
       "      <td>The Power of Natural Language Processing.</td>\n",
       "    </tr>\n",
       "    <tr>\n",
       "      <th>1</th>\n",
       "      <td>Until recently, the conventional wisdom was th...</td>\n",
       "    </tr>\n",
       "    <tr>\n",
       "      <th>2</th>\n",
       "      <td>But in the past two years language-based AI ha...</td>\n",
       "    </tr>\n",
       "    <tr>\n",
       "      <th>3</th>\n",
       "      <td>It has been used to write an article for The G...</td>\n",
       "    </tr>\n",
       "    <tr>\n",
       "      <th>4</th>\n",
       "      <td>AI even excels at cognitive tasks like program...</td>\n",
       "    </tr>\n",
       "  </tbody>\n",
       "</table>\n",
       "</div>"
      ],
      "text/plain": [
       "                                                text\n",
       "0          The Power of Natural Language Processing.\n",
       "1  Until recently, the conventional wisdom was th...\n",
       "2  But in the past two years language-based AI ha...\n",
       "3  It has been used to write an article for The G...\n",
       "4  AI even excels at cognitive tasks like program..."
      ]
     },
     "execution_count": 22,
     "metadata": {},
     "output_type": "execute_result"
    }
   ],
   "source": [
    "# A test document. This document can be found at https://hbr.org/2022/04/the-power-of-natural-language-processing\n",
    "\n",
    "sents = pd.read_csv(\"sents.csv\")\n",
    "sents.head()\n"
   ]
  },
  {
   "cell_type": "code",
   "execution_count": 23,
   "metadata": {},
   "outputs": [
    {
     "name": "stdout",
     "output_type": "stream",
     "text": [
      "[('ago', 1), ('ai-authored', 1), ('an', 1), ('and', 1), ('article', 1), ('been', 1), ('blog', 1), ('feats', 1), ('few', 1), ('for', 1), ('gone', 1), ('guardian', 1), ('has', 1), ('have', 1), ('it', 1), ('possible', 1), ('posts', 1), ('that', 1), ('the', 1), ('to', 1), ('used', 1), ('viral', 1), ('weren’t', 1), ('write', 1), ('years', 1)]\n"
     ]
    },
    {
     "data": {
      "text/plain": [
       "text    It has been used to write an article for The G...\n",
       "Name: 3, dtype: object"
      ]
     },
     "execution_count": 23,
     "metadata": {},
     "output_type": "execute_result"
    },
    {
     "name": "stdout",
     "output_type": "stream",
     "text": [
      "[('ago', 1.0), ('ai-authored', 1.0), ('an', 1.0), ('and', 1.0), ('article', 1.0), ('been', 1.0), ('blog', 1.0), ('feats', 1.0), ('few', 1.0), ('for', 1.0), ('gone', 1.0), ('guardian', 1.0), ('has', 1.0), ('have', 1.0), ('it', 1.0), ('possible', 1.0), ('posts', 1.0), ('that', 1.0), ('the', 1.0), ('to', 1.0), ('used', 1.0), ('viral', 1.0), ('weren’t', 1.0), ('write', 1.0), ('years', 1.0)]\n"
     ]
    }
   ],
   "source": [
    "dtm, all_words = get_dtm(sents.text)\n",
    "\n",
    "# Check if the array is correct\n",
    "\n",
    "# randomly check one sentence\n",
    "idx = 3\n",
    "\n",
    "# get the dictionary using the function in Q1\n",
    "vocab = tokenize(sents[\"text\"].loc[idx])\n",
    "print(sorted(vocab.items(), key=lambda item: item[0]))\n",
    "\n",
    "# get all non-zero entries in dtm[idx] and create a dictionary\n",
    "# these two dictionaries should be the same\n",
    "sents.loc[idx]\n",
    "vocab1 = {all_words[j]: dtm[idx][j] for j in np.where(dtm[idx] > 0)[0]}\n",
    "print(sorted(vocab1.items(), key=lambda item: item[0]))\n"
   ]
  },
  {
   "cell_type": "markdown",
   "metadata": {},
   "source": [
    "## Q3 Analyze DTM Array\n",
    "\n",
    "**Don't use any loop in this task**. You should use array operations to take the advantage of high performance computing.\n"
   ]
  },
  {
   "cell_type": "markdown",
   "metadata": {},
   "source": [
    "Define a function named `analyze_dtm(dtm, words)` which:\n",
    "\n",
    "- takes an array $dtm$ and $words$ as an input, where $dtm$ is the array you get in Q2 with a shape $(m \\times n)$, and $words$ contains an array of words corresponding to the columns of $dtm$.\n",
    "- calculates the sentence frequency for each word, say $j$, e.g. how many sentences contain word $j$. Save the result to array $df$ ($df$ has shape of $(n,)$ or $(1, n)$).\n",
    "- normalizes the word count per sentence: divides word count, i.e., $dtm_{i,j}$, by the total number of words in sentence $i$. Save the result as an array named $tf$ ($tf$ has shape of $(m,n)$).\n",
    "- for each $dtm_{i,j}$, calculates $tf\\_idf_{i,j} = \\frac{tf_{i, j}}{df_j}$, i.e., divide each normalized word count by the sentence frequency of the word. The reason is, if a word appears in most sentences, it does not have the discriminative power and often is called a `stop` word. The inverse of $df$ can downgrade the weight of such words. $tf\\_idf$ has shape of $(m,n)$\n",
    "- prints out the following:\n",
    "  - the total number of words in the document represented by $dtm$\n",
    "  - the most frequent top 10 words in this document\n",
    "  - words with the top 10 largest $df$ values (show words and their $df$ values)\n",
    "  - the longest sentence (i.e., the one with the most words)\n",
    "  - top-10 words with the largest $tf\\_idf$ values in the longest sentence (show words and values)\n",
    "- returns the $tf\\_idf$ array.\n",
    "\n",
    "Note, for all the steps, **do not use any loop**. Just use array functions and broadcasting for high performance computation.\n"
   ]
  },
  {
   "cell_type": "code",
   "execution_count": 24,
   "metadata": {},
   "outputs": [],
   "source": [
    "def analyze_dtm(dtm, words, sents):\n",
    "\n",
    "    # calculates the sentence frequency for each word\n",
    "    df = np.count_nonzero(dtm, axis=0)\n",
    "\n",
    "    # normalizes the word count per sentence\n",
    "    tf = dtm/dtm.sum(axis=1, keepdims=True)\n",
    "\n",
    "    tf_idf = tf/df\n",
    "\n",
    "    print(f\"The total number of words:\\n{dtm.sum()}\\n\")\n",
    "\n",
    "    k = 10\n",
    "    frequent = np.sum(dtm, axis=0)\n",
    "    output = list(\n",
    "        map(lambda i: (words[i], frequent[i]), np.argsort(-frequent)[:k]))\n",
    "    print(f\"The top {k} frequent words:\\n{output}\\n\")\n",
    "\n",
    "    k = 10\n",
    "    output = list(map(lambda i: (words[i], df[i]), np.argsort(-df)[:k]))\n",
    "    print(f\"The top {k} words with highest df values:\\n{output}\\n\")\n",
    "\n",
    "    k = 10\n",
    "    idx = np.argmax(np.sum(dtm, axis=1))\n",
    "    print(f\"The longest sentence :\\n{sents[idx]}\\n\")\n",
    "\n",
    "    k = 10\n",
    "    output = list(\n",
    "        map(lambda i: (words[i], tf_idf[idx][i]), np.argsort(-tf_idf[idx])[:k]))\n",
    "    print(\n",
    "        f\"The top {k} words with highest tf-idf values in the longest sentece:\\n{output}\\n\")\n",
    "\n",
    "    return tf_idf\n"
   ]
  },
  {
   "cell_type": "code",
   "execution_count": 25,
   "metadata": {},
   "outputs": [
    {
     "name": "stdout",
     "output_type": "stream",
     "text": [
      "The total number of words:\n",
      "1853.0\n",
      "\n",
      "The top 10 frequent words:\n",
      "[('the', 68.0), ('to', 65.0), ('and', 52.0), ('of', 50.0), ('for', 37.0), ('ai', 25.0), ('in', 24.0), ('is', 23.0), ('are', 22.0), ('like', 20.0)]\n",
      "\n",
      "The top 10 words with highest df values:\n",
      "[('the', 46), ('to', 42), ('and', 41), ('of', 36), ('for', 32), ('in', 21), ('ai', 21), ('like', 20), ('is', 20), ('tasks', 19)]\n",
      "\n",
      "The longest sentence :\n",
      "Language models are already reshaping traditional text analytics, but GPT-3 was an especially pivotal language model because, at 10x larger than any previous model upon release, it was the first large language model, which enabled it to perform even more advanced tasks like programming and solving high school–level math problems.\n",
      "\n",
      "The top 10 words with highest tf-idf values in the longest sentece:\n",
      "[('problems', 0.02), ('pivotal', 0.02), ('math', 0.02), ('10x', 0.02), ('larger', 0.02), ('upon', 0.02), ('reshaping', 0.02), ('release', 0.02), ('enabled', 0.02), ('perform', 0.02)]\n",
      "\n"
     ]
    },
    {
     "data": {
      "text/plain": [
       "array([[0.00362319, 0.16666667, 0.00462963, ..., 0.        , 0.        ,\n",
       "        0.        ],\n",
       "       [0.00074963, 0.        , 0.        , ..., 0.        , 0.        ,\n",
       "        0.        ],\n",
       "       [0.00088731, 0.        , 0.00113379, ..., 0.        , 0.        ,\n",
       "        0.        ],\n",
       "       ...,\n",
       "       [0.00094518, 0.        , 0.00120773, ..., 0.        , 0.        ,\n",
       "        0.        ],\n",
       "       [0.00074963, 0.        , 0.        , ..., 0.03448276, 0.        ,\n",
       "        0.        ],\n",
       "       [0.00086957, 0.        , 0.        , ..., 0.        , 0.04      ,\n",
       "        0.04      ]])"
      ]
     },
     "execution_count": 25,
     "metadata": {},
     "output_type": "execute_result"
    }
   ],
   "source": [
    "words = np.array(all_words)\n",
    "\n",
    "analyze_dtm(dtm, words, sents.text)\n"
   ]
  },
  {
   "cell_type": "markdown",
   "metadata": {},
   "source": [
    "## Q4. Find keywords of the document (Bonus)\n",
    "\n",
    "Can you leverage $dtm$ array you generated to find a few keywords that can be used to tag this document? e.g., AI, language models, tools, etc.\n",
    "\n",
    "Please use a narrative to describe your ideas and also implement your ideas.\n"
   ]
  },
  {
   "cell_type": "code",
   "execution_count": null,
   "metadata": {},
   "outputs": [],
   "source": []
  },
  {
   "cell_type": "code",
   "execution_count": null,
   "metadata": {},
   "outputs": [],
   "source": []
  }
 ],
 "metadata": {
  "kernelspec": {
   "display_name": "Python 3.8.8 ('base')",
   "language": "python",
   "name": "python3"
  },
  "language_info": {
   "codemirror_mode": {
    "name": "ipython",
    "version": 3
   },
   "file_extension": ".py",
   "mimetype": "text/x-python",
   "name": "python",
   "nbconvert_exporter": "python",
   "pygments_lexer": "ipython3",
   "version": "3.8.8"
  },
  "vscode": {
   "interpreter": {
    "hash": "d7288e82646d3164eca24130947288f8779d11454649f2c02a5dfc42af7f324c"
   }
  }
 },
 "nbformat": 4,
 "nbformat_minor": 4
}
