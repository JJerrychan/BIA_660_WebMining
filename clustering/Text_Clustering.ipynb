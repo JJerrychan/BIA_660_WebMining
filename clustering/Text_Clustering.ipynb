{
 "cells": [
  {
   "cell_type": "markdown",
   "metadata": {},
   "source": [
    "# <center>Unsupervised Learing: Text Clustering</center>\n",
    "\n",
    "References:\n",
    "* https://www-users.cs.umn.edu/~kumar/dmbook/ch8.pdf\n",
    "* http://infolab.stanford.edu/~ullman/mmds/ch7.pdf\n",
    "* http://www.cs.columbia.edu/~smaskey/CS6998-0412/slides/week3_statnlp_web.pdf"
   ]
  },
  {
   "cell_type": "markdown",
   "metadata": {},
   "source": [
    "## 1. Clustering vs. Classification\n",
    "* Clustering (Unsupervised): divide a set of objects into clusters (parts of the set) so that objects in the same cluster are similar to each other, and/or objects in different clusters are dissimilar.\n",
    "  * Representation of the objects\n",
    "  * Similarity/distance measure\n",
    "* Classifification (Supervised): group objects into predetermined categories\n",
    "  * Representation of the objects\n",
    "  * A training set"
   ]
  },
  {
   "cell_type": "markdown",
   "metadata": {},
   "source": [
    "## 2. Why clustering\n",
    "* Example: Google News - https://news.google.com/topstories?hl=en-US&gl=US&ceid=US:en\n",
    "* Understand conceptually meaningful groups of objects that share common characteristics \n",
    "* Provides an abstraction from individual data objects to the clusters in which those data objects reside\n",
    "* Uses of clustering\n",
    "  * Summarization\n",
    "  * Compression\n",
    "  * Efficiently finding nearest neighbors"
   ]
  },
  {
   "cell_type": "markdown",
   "metadata": {},
   "source": [
    "## 3. Types of Clusterings \n",
    "* Different kinds of models (https://www.geeksforgeeks.org/different-types-clustering-algorithm/):\n",
    "  - Centroid models (partition): \n",
    "     - Division of data into non-overlapping subsets and each data object is in one cluster. \n",
    "     - Similarity is derived as the closeness of a data point to the centroid of clusters. \n",
    "     - Flat partition, e.g. K-Means\n",
    "     <img src='centroid.png' width=\"40%\">\n",
    "  - Connectivity models (Hierarchical algorithms): \n",
    "     - Data points closer in data space exhibit more similarity to each other than the data points lying farther away.      \n",
    "     - Hierarchy of clusters, e.g. agglomerative clustering\n",
    "     <img src='connectivity.png' width=\"40%\">\n",
    "  - Distribution models: \n",
    "     - How probable is it that all data points in the cluster belong to the same distribution, concept, or topic\n",
    "     - e.g. Latent Semantics Analysis, Latent Dirichlet Allocation (LDA)\n",
    "     <img src='distribution.png' width=\"40%\">\n",
    "  - Density models: clusters correspond to areas of varied density of data points in the data space\n",
    "     - e.g. DBSCAN\n",
    "     <img src='density.png' width=\"40%\">\n",
    "* Exclusive vs. Overlapping\n",
    "  - Exclusive: each object is assigned to a single cluster, e.g. K-Means\n",
    "  - Overlapping (non-exclusive): an object can simultaneously belong to more than one cluster, e.g. LDA"
   ]
  },
  {
   "cell_type": "markdown",
   "metadata": {},
   "source": [
    "## 4. Evaluation of Clustering: What is a good clustering\n",
    "### 4.1 External Evaluation (a subset of data manually labeled for evalution): \n",
    "* External evaluation measures the degree to which predicted clustering labels correspond to actual class labels  \n",
    "* **Precision** and **Recall**"
   ]
  },
  {
   "cell_type": "markdown",
   "metadata": {},
   "source": [
    "### 4.2. Internal Evaluation \n",
    "<img src='cohension_separation.png' width=\"60%\">\n",
    "\n",
    "* **Distortion (SSD)**: sum of squared distance of objects in a cluster to the cluster center. We want to minimize $SSD$.\n",
    "$$ SSD = \\sum_k{\\sum_i{(x_{k,i} - \\mu_k)^2}}, \\text{where}~\\mu_k~\\text{is the center of cluster}~k,x_{k,i}~\\text{is the}~i\\text{th object in the cluster}~k$$\n",
    "* **Cohension (Intra-cluster similarity)**: how \"cohesive\" a cluster is, i.e. the average similarity of objects in the same cluster. \n",
    "   - e.g. cluster radius: $ mean ({d(x, μ_A)})$ where $μ_A$ is the arithmetic mean of cluster A and $x$ is a point in A\n",
    "   - e.g. cluster diameter: $\\max{d(x, y)}$ where $x,y$ are two points in cluster A\n",
    "\n",
    "* **Separation (Inter-cluster dissimilarity)**: how \"separate\" a cluster from another, i.e. the average similarity of all samples in cluster $A$ to all the samples in cluster $B$.\n",
    "   - e.g. Separation can be calculated as average distance: $\\frac{1}{|A|*|B|}\\sum_{x \\in A}{\\sum_{y \\in B}{d(x, y)}}$ \n",
    "* Metrics with combined cohension and separation (http://scikit-learn.org/stable/modules/clustering.html#clustering-evaluation)\n",
    "   - **Silhouette Coefficient**: $s=\\frac{b-a}{\\max(a,b)}$, where $a$: the mean distance between a sample and all other points in the same cluster, and $b$: the mean distance between a sample and all other points in the next nearest cluster. $s \\in [-1, 1]$.\n",
    "   - **Calinski-Harabaz Index**: $s=\\frac{b}{a}$ where $a$ is the mean of within\\-cluster separation, and $b$ is the mean of between\\-cluster separation"
   ]
  },
  {
   "cell_type": "markdown",
   "metadata": {},
   "source": [
    "## 5. K-Means\n",
    "### 5.1. Algorithm outline: Cluster objects into K clusters\n",
    "\n",
    "- Algorithm: \n",
    "    1. Select K points as initial centroids \n",
    "    2. Repeat until centroids do not change:\n",
    "        1. Form K clusters by assigning each point to its closest centroid by distance.\n",
    "        2. Recompute the centroid of each cluster as the arithmetic mean of samples within the cluster. \n",
    "<img src='kmean.png'  width='80%'/>\n"
   ]
  },
  {
   "cell_type": "markdown",
   "metadata": {},
   "source": [
    "- A few observations of K-means:\n",
    "  - Initial centroids have an impact on clustering. Usually, several rounds of clustering with random initial centroids are performed, and the best one is reported.\n",
    "  - Centroids and distance measures are critical in the algorithm\n",
    "     - **Euclidean distance**: \n",
    "       - The best centroid for minimizing the average distance from all samples to the centroid is the mean of points in the cluster (https://www-users.cs.umn.edu/~kumar001/dmbook/ch8.pdf)\n",
    "       - Curse of dimensionality\n",
    "       - Sensitive to outliers\n",
    "     - **Cosine similarity**: \n",
    "       * Well-accepted similarity measure for documents\n",
    "       * It is not guaranteed that the mean of samples in a cluster is the best centroid \n",
    "       * For text clustering, the centroid does not stand for an actual document. How to interpret clusters?\n",
    "     - A modified version of Kmeans is called **K-medoids**, where a representative sample is choosen as the center of a cluster, called as a medoid. \n",
    "- Python packages for Kmean\n",
    "  * NLTK: can choose Euclidean or Cosine similarity as distance measure\n",
    "  * Sklearn: only Euclidean distance is supported  "
   ]
  },
  {
   "cell_type": "code",
   "execution_count": 1,
   "metadata": {},
   "outputs": [],
   "source": [
    "from IPython.core.interactiveshell import InteractiveShell\n",
    "InteractiveShell.ast_node_interactivity = \"all\"\n",
    "\n",
    "from matplotlib import pyplot as plt\n",
    "import seaborn as sns"
   ]
  },
  {
   "cell_type": "code",
   "execution_count": 2,
   "metadata": {},
   "outputs": [
    {
     "name": "stdout",
     "output_type": "stream",
     "text": [
      "From: sd345@city.ac.uk (Michael Collier)\n",
      "Subject: Converting images to HP LaserJet III?\n",
      "Nntp-Posting-Host: hampton\n",
      "Organization: The City University\n",
      "Lines: 14\n",
      "\n",
      "Does anyone know of a good way (standard PC application/PD utility) to\n",
      "convert tif/img/tga files into LaserJet III format.  We would also like to\n",
      "do the same, converting to HPGL (HP plotter) files.\n",
      "\n",
      "Please email any response.\n",
      "\n",
      "Is this the correct group?\n",
      "\n",
      "Thanks in advance.  Michael.\n",
      "-- \n",
      "Michael Collier (Programmer)                 The Computer Unit,\n",
      "Email: M.P.Collier@uk.ac.city                The City University,\n",
      "Tel: 071 477-8000 x3769                      London,\n",
      "Fax: 071 477-8565                            EC1V 0HB.\n",
      "\n"
     ]
    }
   ],
   "source": [
    "# Exercise 5.1.1 Load data and generate TF-IDF\n",
    "# Load datasets (http://qwone.com/~jason/20Newsgroups/)\n",
    "# A subset is loaded\n",
    "\n",
    "import pandas as pd\n",
    "from sklearn.model_selection import train_test_split\n",
    "\n",
    "df=pd.read_csv(\"twenty_news_data.csv\",\\\n",
    "               header=0)\n",
    "\n",
    "# Select three labels for now\n",
    "labels =['comp.graphics', 'soc.religion.christian',\\\n",
    "         'sci.med']\n",
    "data=df[df[\"label\"].isin(labels)]\n",
    "\n",
    "# Split dataset into training and test. \n",
    "# Assuming we only know ground-truth label \n",
    "# for the test set.\n",
    "\n",
    "train, test = train_test_split(data, test_size=0.2, random_state=0)\n",
    "\n",
    "# print out the full text of the first sample\n",
    "print(data[\"text\"][0])"
   ]
  },
  {
   "cell_type": "code",
   "execution_count": 3,
   "metadata": {},
   "outputs": [
    {
     "name": "stdout",
     "output_type": "stream",
     "text": [
      "(1421, 5925)\n"
     ]
    }
   ],
   "source": [
    "# Exercise 5.1.2\n",
    "# initialize the TfidfVectorizer \n",
    "# set min document frequency to 5\n",
    "\n",
    "from sklearn.feature_extraction.text import TfidfVectorizer\n",
    "from sklearn import metrics\n",
    "from nltk.corpus import stopwords\n",
    "\n",
    "# set the min document frequency to 5\n",
    "# generate tfidf matrix\n",
    "tfidf_vect = TfidfVectorizer(stop_words=\"english\",\\\n",
    "                             min_df=5) \n",
    "\n",
    "dtm= tfidf_vect.fit_transform(train[\"text\"])\n",
    "print (dtm.shape)\n"
   ]
  },
  {
   "cell_type": "code",
   "execution_count": 4,
   "metadata": {},
   "outputs": [
    {
     "name": "stdout",
     "output_type": "stream",
     "text": [
      "[2, 0, 0, 0, 0]\n"
     ]
    }
   ],
   "source": [
    "# Exercise 5.1.3 Clustering using NLTK KMean\n",
    "# cosine distance is calculated\n",
    "\n",
    "from nltk.cluster import KMeansClusterer, \\\n",
    "cosine_distance\n",
    "\n",
    "# set number of clusters\n",
    "num_clusters=3\n",
    "\n",
    "# initialize clustering model\n",
    "# using cosine distance\n",
    "# clustering will repeat 20 times\n",
    "# each with different initial centroids\n",
    "clusterer = KMeansClusterer(num_clusters, \\\n",
    "                            cosine_distance, \\\n",
    "                            repeats=20)\n",
    "\n",
    "# samples are assigned to cluster labels \n",
    "# starting from 0\n",
    "clusters = clusterer.cluster(dtm.toarray(), \\\n",
    "                             assign_clusters=True)\n",
    "\n",
    "#print the cluster labels of the first 5 samples\n",
    "print(clusters[0:5])"
   ]
  },
  {
   "cell_type": "code",
   "execution_count": 5,
   "metadata": {},
   "outputs": [
    {
     "name": "stdout",
     "output_type": "stream",
     "text": [
      "Cluster 0:\n",
      " edu; graphics; lines; posting; host; subject; com; nntp; organization; university; thanks; files; uk; image; 3d; program; ac; file; software; windows \n",
      "Cluster 1:\n",
      " edu; com; pitt; msg; banks; geb; gordon; cs; article; science; writes; food; dyer; organization; subject; don; lines; disease; people; doctor \n",
      "Cluster 2:\n",
      " god; edu; jesus; church; christians; people; bible; christian; christ; believe; faith; hell; think; know; truth; rutgers; don; christianity; subject; just \n"
     ]
    }
   ],
   "source": [
    "# Exercise 5.1.4 Interpret each cluster by centroid\n",
    "\n",
    "# a centroid is the arithemtic mean \n",
    "# of all samples in the cluster\n",
    "# it may not stand for a real document\n",
    "\n",
    "# find top words at centroid of each cluster\n",
    "from sklearn import metrics\n",
    "import numpy as np\n",
    "\n",
    "# clusterer.means() contains the centroids\n",
    "# each row is a cluster, and \n",
    "# each column is a feature (word)\n",
    "centroids=np.array(clusterer.means())\n",
    "\n",
    "# argsort sort the matrix in ascending order \n",
    "# and return locations of features before sorting\n",
    "# [:,::-1] reverse the order\n",
    "sorted_centroids = centroids.argsort()[:, ::-1] \n",
    "\n",
    "# The mapping between feature (word)\n",
    "# index and feature (word) can be obtained by\n",
    "# the vectorizer's function get_feature_names()\n",
    "voc_lookup= tfidf_vect.get_feature_names()\n",
    "\n",
    "for i in range(num_clusters):\n",
    "    \n",
    "    # get words with top 20 tf-idf weight in the centroid\n",
    "    top_words=[voc_lookup[word_index] \\\n",
    "               for word_index in sorted_centroids[i, :20]]\n",
    "    print(\"Cluster %d:\\n %s \" % (i, \"; \".join(top_words)))"
   ]
  },
  {
   "cell_type": "markdown",
   "metadata": {},
   "source": [
    "### 5.2. How to evaluate clustering\n",
    "- External evaluation:\n",
    "  - Obtain \"ground truth\": if data is not labeled, manually label a random subset of samples as \"ground truth\" \n",
    "  - Assign each cluster to a \"true\" class by the **majority vote rule**\n",
    "  - Calculate precision and recall\n",
    "  \n",
    "  \n",
    "  | Cluster ID      | Ground Truth Class Label   |\n",
    "  | :------------- |:----------------------------|\n",
    "  | 0      | comp.graphics|\n",
    "  | 1      | sci.med  |\n",
    "  | 2      | soc.religion.christian|\n",
    "  \n",
    "- Internal evaluation\n",
    "  - Silhouette Coefficient\n",
    "  - Calinski-Harabaz Index\n",
    "  - ...\n",
    "- Sometimes, you can visualize the cluster after dimension reduction (e.g. PCA)"
   ]
  },
  {
   "cell_type": "code",
   "execution_count": 6,
   "metadata": {},
   "outputs": [
    {
     "data": {
      "text/plain": [
       "[1, 0, 0, 1, 0, 2, 2, 1, 2, 2]"
      ]
     },
     "execution_count": 6,
     "metadata": {},
     "output_type": "execute_result"
    }
   ],
   "source": [
    "# Exercise 5.2.1 Predict labels for new samples\n",
    "\n",
    "# Question: how to determine \n",
    "# the label for a new sample?\n",
    "\n",
    "# note transform function is used\n",
    "# not fit_transform\n",
    "test_dtm = tfidf_vect.transform(test[\"text\"])\n",
    " \n",
    "predicted = [clusterer.classify(v) for v in test_dtm.toarray()]\n",
    "\n",
    "predicted[0:10]"
   ]
  },
  {
   "cell_type": "code",
   "execution_count": 7,
   "metadata": {
    "scrolled": true
   },
   "outputs": [
    {
     "data": {
      "text/html": [
       "<div>\n",
       "<style scoped>\n",
       "    .dataframe tbody tr th:only-of-type {\n",
       "        vertical-align: middle;\n",
       "    }\n",
       "\n",
       "    .dataframe tbody tr th {\n",
       "        vertical-align: top;\n",
       "    }\n",
       "\n",
       "    .dataframe thead th {\n",
       "        text-align: right;\n",
       "    }\n",
       "</style>\n",
       "<table border=\"1\" class=\"dataframe\">\n",
       "  <thead>\n",
       "    <tr style=\"text-align: right;\">\n",
       "      <th></th>\n",
       "      <th>label</th>\n",
       "      <th>cluster</th>\n",
       "    </tr>\n",
       "  </thead>\n",
       "  <tbody>\n",
       "    <tr>\n",
       "      <th>0</th>\n",
       "      <td>sci.med</td>\n",
       "      <td>1</td>\n",
       "    </tr>\n",
       "    <tr>\n",
       "      <th>1</th>\n",
       "      <td>sci.med</td>\n",
       "      <td>0</td>\n",
       "    </tr>\n",
       "    <tr>\n",
       "      <th>2</th>\n",
       "      <td>comp.graphics</td>\n",
       "      <td>0</td>\n",
       "    </tr>\n",
       "    <tr>\n",
       "      <th>3</th>\n",
       "      <td>sci.med</td>\n",
       "      <td>1</td>\n",
       "    </tr>\n",
       "    <tr>\n",
       "      <th>4</th>\n",
       "      <td>comp.graphics</td>\n",
       "      <td>0</td>\n",
       "    </tr>\n",
       "  </tbody>\n",
       "</table>\n",
       "</div>"
      ],
      "text/plain": [
       "           label  cluster\n",
       "0        sci.med        1\n",
       "1        sci.med        0\n",
       "2  comp.graphics        0\n",
       "3        sci.med        1\n",
       "4  comp.graphics        0"
      ]
     },
     "execution_count": 7,
     "metadata": {},
     "output_type": "execute_result"
    },
    {
     "data": {
      "text/html": [
       "<div>\n",
       "<style scoped>\n",
       "    .dataframe tbody tr th:only-of-type {\n",
       "        vertical-align: middle;\n",
       "    }\n",
       "\n",
       "    .dataframe tbody tr th {\n",
       "        vertical-align: top;\n",
       "    }\n",
       "\n",
       "    .dataframe thead th {\n",
       "        text-align: right;\n",
       "    }\n",
       "</style>\n",
       "<table border=\"1\" class=\"dataframe\">\n",
       "  <thead>\n",
       "    <tr style=\"text-align: right;\">\n",
       "      <th>label</th>\n",
       "      <th>comp.graphics</th>\n",
       "      <th>sci.med</th>\n",
       "      <th>soc.religion.christian</th>\n",
       "    </tr>\n",
       "    <tr>\n",
       "      <th>cluster</th>\n",
       "      <th></th>\n",
       "      <th></th>\n",
       "      <th></th>\n",
       "    </tr>\n",
       "  </thead>\n",
       "  <tbody>\n",
       "    <tr>\n",
       "      <th>0</th>\n",
       "      <td>107</td>\n",
       "      <td>15</td>\n",
       "      <td>6</td>\n",
       "    </tr>\n",
       "    <tr>\n",
       "      <th>1</th>\n",
       "      <td>0</td>\n",
       "      <td>113</td>\n",
       "      <td>3</td>\n",
       "    </tr>\n",
       "    <tr>\n",
       "      <th>2</th>\n",
       "      <td>0</td>\n",
       "      <td>1</td>\n",
       "      <td>111</td>\n",
       "    </tr>\n",
       "  </tbody>\n",
       "</table>\n",
       "</div>"
      ],
      "text/plain": [
       "label    comp.graphics  sci.med  soc.religion.christian\n",
       "cluster                                                \n",
       "0                  107       15                       6\n",
       "1                    0      113                       3\n",
       "2                    0        1                     111"
      ]
     },
     "execution_count": 7,
     "metadata": {},
     "output_type": "execute_result"
    }
   ],
   "source": [
    "# Exercise 5.2.2 External evaluation\n",
    "# determine cluster labels and calcuate precision and recall\n",
    "\n",
    "# Create a dataframe with cluster id and \n",
    "# ground truth label\n",
    "confusion_df = pd.DataFrame(list(zip(test[\"label\"].values, predicted)),\\\n",
    "                            columns = [\"label\", \"cluster\"])\n",
    "confusion_df.head()\n",
    "\n",
    "# generate crosstab between clusters and true labels\n",
    "pd.crosstab( index=confusion_df.cluster, columns=confusion_df.label)"
   ]
  },
  {
   "cell_type": "code",
   "execution_count": 8,
   "metadata": {},
   "outputs": [
    {
     "name": "stdout",
     "output_type": "stream",
     "text": [
      "                        precision    recall  f1-score   support\n",
      "\n",
      "         comp.graphics       0.84      1.00      0.91       107\n",
      "               sci.med       0.97      0.88      0.92       129\n",
      "soc.religion.christian       0.99      0.93      0.96       120\n",
      "\n",
      "              accuracy                           0.93       356\n",
      "             macro avg       0.93      0.93      0.93       356\n",
      "          weighted avg       0.94      0.93      0.93       356\n",
      "\n"
     ]
    }
   ],
   "source": [
    "# Exercise 5.2.3 \n",
    "# Map cluster id to true labels by \"majority vote\"\n",
    "cluster_dict={0:'comp.graphics',\\\n",
    "              1:\"sci.med\",\\\n",
    "              2:'soc.religion.christian'}\n",
    "\n",
    "# Map true label to cluster id\n",
    "predicted_target=[cluster_dict[i] \\\n",
    "                  for i in predicted]\n",
    "\n",
    "print(metrics.classification_report\\\n",
    "      (test[\"label\"], predicted_target))"
   ]
  },
  {
   "cell_type": "markdown",
   "metadata": {},
   "source": [
    "You may be able to visualize the data with dimension reduction techniques such as `PCA`, `t-SNE` (t-distributed stochastic neighbor embedding)"
   ]
  },
  {
   "cell_type": "code",
   "execution_count": 9,
   "metadata": {},
   "outputs": [
    {
     "data": {
      "text/plain": [
       "<Figure size 1152x288 with 0 Axes>"
      ]
     },
     "execution_count": 9,
     "metadata": {},
     "output_type": "execute_result"
    },
    {
     "data": {
      "text/plain": [
       "<matplotlib.axes._subplots.AxesSubplot at 0x7fde5f410750>"
      ]
     },
     "execution_count": 9,
     "metadata": {},
     "output_type": "execute_result"
    },
    {
     "data": {
      "text/plain": [
       "<matplotlib.axes._subplots.AxesSubplot at 0x7fde5f410750>"
      ]
     },
     "execution_count": 9,
     "metadata": {},
     "output_type": "execute_result"
    },
    {
     "data": {
      "text/plain": [
       "<matplotlib.axes._subplots.AxesSubplot at 0x7fde606d5ad0>"
      ]
     },
     "execution_count": 9,
     "metadata": {},
     "output_type": "execute_result"
    },
    {
     "data": {
      "text/plain": [
       "<matplotlib.axes._subplots.AxesSubplot at 0x7fde606d5ad0>"
      ]
     },
     "execution_count": 9,
     "metadata": {},
     "output_type": "execute_result"
    },
    {
     "data": {
      "image/png": "[encoded data removed]",
      "text/plain": [
       "<Figure size 1152x288 with 2 Axes>"
      ]
     },
     "metadata": {
      "needs_background": "light"
     },
     "output_type": "display_data"
    }
   ],
   "source": [
    "# Exercise 5.2.4 \n",
    "from sklearn.decomposition import PCA\n",
    "pca = PCA(n_components=2)\n",
    "X = pca.fit_transform(test_dtm.toarray())\n",
    "\n",
    "plt.figure(figsize=(16, 4))\n",
    "plt.subplot(1,2,1)\n",
    "sns.scatterplot(x=X[:,0], y=X[:,1], hue = test[\"label\"], palette=['green','orange','blue'] )\n",
    "\n",
    "plt.subplot(1,2,2)\n",
    "sns.scatterplot(x=X[:,0], y=X[:,1], hue = predicted, palette=['orange','green','blue'] )\n",
    "plt.show()"
   ]
  },
  {
   "cell_type": "markdown",
   "metadata": {},
   "source": [
    "### 5.3. Clustering with sklearn package - Euclidean distance\n",
    "- Compare its performance with NLTK Kmeans result\n",
    "- Discuss: the difference between performance"
   ]
  },
  {
   "cell_type": "code",
   "execution_count": 10,
   "metadata": {},
   "outputs": [],
   "source": [
    "# Exercise 5.3.1 Clustering with sklearn package - Euclidean distance\n",
    "from sklearn.cluster import KMeans\n",
    "\n",
    "# Kmeans with 20 different centroid seeds\n",
    "km = KMeans(n_clusters=num_clusters, n_init=20, random_state = 42)\\\n",
    ".fit(dtm)\n",
    "clusters = km.labels_.tolist()\n"
   ]
  },
  {
   "cell_type": "code",
   "execution_count": 11,
   "metadata": {},
   "outputs": [
    {
     "data": {
      "text/html": [
       "<div>\n",
       "<style scoped>\n",
       "    .dataframe tbody tr th:only-of-type {\n",
       "        vertical-align: middle;\n",
       "    }\n",
       "\n",
       "    .dataframe tbody tr th {\n",
       "        vertical-align: top;\n",
       "    }\n",
       "\n",
       "    .dataframe thead th {\n",
       "        text-align: right;\n",
       "    }\n",
       "</style>\n",
       "<table border=\"1\" class=\"dataframe\">\n",
       "  <thead>\n",
       "    <tr style=\"text-align: right;\">\n",
       "      <th></th>\n",
       "      <th>label</th>\n",
       "      <th>cluster</th>\n",
       "    </tr>\n",
       "  </thead>\n",
       "  <tbody>\n",
       "    <tr>\n",
       "      <th>0</th>\n",
       "      <td>sci.med</td>\n",
       "      <td>0</td>\n",
       "    </tr>\n",
       "    <tr>\n",
       "      <th>1</th>\n",
       "      <td>sci.med</td>\n",
       "      <td>0</td>\n",
       "    </tr>\n",
       "    <tr>\n",
       "      <th>2</th>\n",
       "      <td>comp.graphics</td>\n",
       "      <td>0</td>\n",
       "    </tr>\n",
       "    <tr>\n",
       "      <th>3</th>\n",
       "      <td>sci.med</td>\n",
       "      <td>0</td>\n",
       "    </tr>\n",
       "    <tr>\n",
       "      <th>4</th>\n",
       "      <td>comp.graphics</td>\n",
       "      <td>0</td>\n",
       "    </tr>\n",
       "  </tbody>\n",
       "</table>\n",
       "</div>"
      ],
      "text/plain": [
       "           label  cluster\n",
       "0        sci.med        0\n",
       "1        sci.med        0\n",
       "2  comp.graphics        0\n",
       "3        sci.med        0\n",
       "4  comp.graphics        0"
      ]
     },
     "execution_count": 11,
     "metadata": {},
     "output_type": "execute_result"
    },
    {
     "data": {
      "text/html": [
       "<div>\n",
       "<style scoped>\n",
       "    .dataframe tbody tr th:only-of-type {\n",
       "        vertical-align: middle;\n",
       "    }\n",
       "\n",
       "    .dataframe tbody tr th {\n",
       "        vertical-align: top;\n",
       "    }\n",
       "\n",
       "    .dataframe thead th {\n",
       "        text-align: right;\n",
       "    }\n",
       "</style>\n",
       "<table border=\"1\" class=\"dataframe\">\n",
       "  <thead>\n",
       "    <tr style=\"text-align: right;\">\n",
       "      <th>label</th>\n",
       "      <th>comp.graphics</th>\n",
       "      <th>sci.med</th>\n",
       "      <th>soc.religion.christian</th>\n",
       "    </tr>\n",
       "    <tr>\n",
       "      <th>cluster</th>\n",
       "      <th></th>\n",
       "      <th></th>\n",
       "      <th></th>\n",
       "    </tr>\n",
       "  </thead>\n",
       "  <tbody>\n",
       "    <tr>\n",
       "      <th>0</th>\n",
       "      <td>107</td>\n",
       "      <td>105</td>\n",
       "      <td>23</td>\n",
       "    </tr>\n",
       "    <tr>\n",
       "      <th>1</th>\n",
       "      <td>0</td>\n",
       "      <td>23</td>\n",
       "      <td>0</td>\n",
       "    </tr>\n",
       "    <tr>\n",
       "      <th>2</th>\n",
       "      <td>0</td>\n",
       "      <td>1</td>\n",
       "      <td>97</td>\n",
       "    </tr>\n",
       "  </tbody>\n",
       "</table>\n",
       "</div>"
      ],
      "text/plain": [
       "label    comp.graphics  sci.med  soc.religion.christian\n",
       "cluster                                                \n",
       "0                  107      105                      23\n",
       "1                    0       23                       0\n",
       "2                    0        1                      97"
      ]
     },
     "execution_count": 11,
     "metadata": {},
     "output_type": "execute_result"
    }
   ],
   "source": [
    "# Exercise 5.3.2 Performance Evaluation\n",
    "\n",
    "predicted = km.predict(test_dtm)\n",
    "\n",
    "confusion_df = pd.DataFrame(list(zip(test[\"label\"].values, predicted)),\\\n",
    "                            columns = [\"label\", \"cluster\"])\n",
    "confusion_df.head()\n",
    "\n",
    "# generate crosstab between clusters and true labels\n",
    "pd.crosstab( index=confusion_df.cluster, columns=confusion_df.label)"
   ]
  },
  {
   "cell_type": "code",
   "execution_count": 12,
   "metadata": {},
   "outputs": [
    {
     "data": {
      "text/plain": [
       "<Figure size 1152x288 with 0 Axes>"
      ]
     },
     "execution_count": 12,
     "metadata": {},
     "output_type": "execute_result"
    },
    {
     "data": {
      "text/plain": [
       "<matplotlib.axes._subplots.AxesSubplot at 0x7fde605dc150>"
      ]
     },
     "execution_count": 12,
     "metadata": {},
     "output_type": "execute_result"
    },
    {
     "data": {
      "text/plain": [
       "<matplotlib.axes._subplots.AxesSubplot at 0x7fde605dc150>"
      ]
     },
     "execution_count": 12,
     "metadata": {},
     "output_type": "execute_result"
    },
    {
     "data": {
      "text/plain": [
       "<matplotlib.axes._subplots.AxesSubplot at 0x7fde605c6cd0>"
      ]
     },
     "execution_count": 12,
     "metadata": {},
     "output_type": "execute_result"
    },
    {
     "data": {
      "text/plain": [
       "<matplotlib.axes._subplots.AxesSubplot at 0x7fde605c6cd0>"
      ]
     },
     "execution_count": 12,
     "metadata": {},
     "output_type": "execute_result"
    },
    {
     "data": {
      "image/png": "[encoded data removed]",
      "text/plain": [
       "<Figure size 1152x288 with 2 Axes>"
      ]
     },
     "metadata": {
      "needs_background": "light"
     },
     "output_type": "display_data"
    }
   ],
   "source": [
    "plt.figure(figsize=(16, 4))\n",
    "plt.subplot(1,2,1)\n",
    "sns.scatterplot(x=X[:,0], y=X[:,1], hue = test[\"label\"], palette=['green','orange','blue'] )\n",
    "\n",
    "plt.subplot(1,2,2)\n",
    "sns.scatterplot(x=X[:,0], y=X[:,1], hue = predicted, palette=['orange','green','blue'] )\n",
    "plt.show()"
   ]
  },
  {
   "cell_type": "markdown",
   "metadata": {},
   "source": [
    "- You may notice the significant performance difference caused by:\n",
    "   - different distance measures: L2 distance vs. Cosine distance\n",
    "   - high dimensionalties (curse of dimensionality)\n",
    "- What could be possible ways to solve \"curse of dimensionality\"?\n"
   ]
  },
  {
   "cell_type": "markdown",
   "metadata": {},
   "source": [
    "### 5.4. How to pick *K*, the number of clusters?\n",
    "- **Try external valuation first!!!**\n",
    "  - manually assess a subset of documents to create \"ground truth\"\n",
    "- In case it is impossible to figure out how many clusters in the data set manually, **theorectically**, *K* may be selected as follows:\n",
    "  * Select a metric to measure the \"goodness\" of clusters, e.g. average radius, average diameter, etc.\n",
    "  * Varying *K* from 2 to N, perform clustering for each *K*\n",
    "  * Ideally, as *K* increases to some point, the metric should grow slowly (**elbow method**)\n",
    "\n",
    "<img style=\"float: left;\" src='best_k.png'  width='40%'/><img  src='sample1.png' width='30%'/>\n",
    "source: http://infolab.stanford.edu/~ullman/mmds/ch7.pdf\n",
    "- However, if samples do not have clear structures, this method may not work (elbow does not exist!)\n",
    "<img src=\"samples2.png\" width='20%'>"
   ]
  },
  {
   "cell_type": "markdown",
   "metadata": {},
   "source": [
    "### 5.4. Gaussian Mixture Models (GMMs)"
   ]
  },
  {
   "cell_type": "markdown",
   "metadata": {},
   "source": [
    "Often, samples may overlap with each other and there are no clear boundaries between clusters\n",
    "<img src='gmm1.png' width = \"50%\">"
   ]
  },
  {
   "cell_type": "markdown",
   "metadata": {},
   "source": [
    "Gaussian Mixture Model assumes each cluster follows a normal distribution. Notice that, in this example, \n",
    "- 1 Gaussian may not fit the data\n",
    "- 2 Gaussians may fit the data better. Each Gaussian can be a cluster\n",
    "- GMM uses a well established mathematical algorithm called `expectation-maximization (EM)` to estimate the cluster for each sample. This class category is also called `latent variable`\n",
    "\n",
    "<img src='gmm2.png' width = \"80%\">"
   ]
  },
  {
   "cell_type": "markdown",
   "metadata": {},
   "source": [
    "#### GMM Assumption:\n",
    "GMM assumes samples follows a mixture of $k$ Gaussian distributions. Formally,\n",
    "- Let $X = [x_1, x_2, ..., x_N]$ be a sample set, $Y=[1,2, ..., K]$ be cluster labels. For any $y \\in Y $ and $x\\in X $:\n",
    "- `Cluster 0`: $p~(~x~|~y=1~)=\\mathcal{N}(\\mu_1,\\,\\Sigma_{1})$, \n",
    "- `Cluster 1`: $p~(~x~|~y=2~)=\\mathcal{N}(\\mu_2,\\,\\Sigma_{2})$  \n",
    "- ...\n",
    "- `Cluster k`: $p~(~x~|~y=k~)=\\mathcal{N}(\\mu_k,\\,\\Sigma_{k})$\n",
    "\n",
    "With this setup, $p~(~x~)=\\sum^K_{k=1}{p~(~y~=~k~)~p~(~x~|~y=k~)}$\n",
    "<img src='gmm4.png' width = '40%'>"
   ]
  },
  {
   "cell_type": "markdown",
   "metadata": {},
   "source": [
    "#### EM Algorithm\n",
    "(1) Initialize $(\\mu_1,\\Sigma_{1}), (\\mu_2,\\Sigma_{2}),...,(\\mu_K,\\Sigma_{K}) $, and $\\pi_k = p~(~y =k~) $, for $k=1,2, ..., K$, (i.e. proportion of each cluster). Often, we can initialize them using `KMeans`\n",
    "\n",
    "\n",
    "(2) (`Expectation Step` or `E-Step`) Compute $p~(~y = k~|~x~)$, for $ k= 1, 2, ..., K$ i.e. how likely $x$ belongs to cluster $k$. This probability is used as `soft assignment` (compared to `hard assignment` in `KMeans`)\n",
    "\n",
    "\n",
    "\\begin{align}  p~(~y~|~x~) & = \\frac{p~(~x~y~)}{p~(~x~)}  = \\frac{p~(~x~|~y~)~p~(~y~)}{\\sum_{y \\in Y}~{p~(~x~y~)}} = \\frac{p~(~x~|~y~)~p~(~y~)}{\\sum_{y \\in Y}{p~(~x~|~y~)~p~(~y~)}}~~ \\text{(Bayes Rule)} \\\\\n",
    "\\\\\n",
    "               \\text{e.g.,}~p~(y = 1 ~|~x~) & = \\frac{p~(~x~|~y =1~)~p~(~y =1~)}{\\sum^K_{k=1}{p~(~x~|~y =k~)~p~(~y =k~)}} ~~ \\text{(How likely x belong to cluster 1)} \\\\\n",
    "               \\\\\n",
    "               & = \\frac{p~(~x~|~y =1~)~\\pi_1}{\\sum^K_{k=1}{p~(~x~|~y =k~)~\\pi_k}} \\\\\n",
    "               \\\\\n",
    "               \\text{note, } p~(~x~|~y=k~) & =\\mathcal{N}(\\mu_j,\\,\\Sigma_{k})\n",
    "\\end{align}"
   ]
  },
  {
   "cell_type": "markdown",
   "metadata": {},
   "source": [
    "(3) (`Maximization Step` or `M-Step`): Update $(\\mu_1,\\Sigma_1), (\\mu_2,\\Sigma_2),...,(\\mu_k,\\Sigma_k), (\\pi_1, \\pi_2, ..., \\pi_k) $. This is similar to `Kmeans`, but consider $p~(~y=k~|~x~)$ as a weight "
   ]
  },
  {
   "cell_type": "markdown",
   "metadata": {},
   "source": [
    "\n",
    "\\begin{align}\n",
    "N_k & = \\sum^n_{i=1}{p~(~y = k ~|~x_i~)}~~ \\text{-- expected number of samples \"softly\" assigned to cluster}~k \\\\\n",
    "\\mu_k & = \\frac{1}{N_k}\\sum^n_{i=1}{p~(~y = k ~|~x_i~)~x_i}~~ \\text{ -- weighted sum of}~ x ~\\text{by its likelihood of belonging to cluster}~k  \\\\\n",
    "& \\text{Note, }\\mu_k \\text{ is calculated in a similar way as KMean, except that each sample is weighted by}~p~(~y = k ~|~x_i~)\\\\\n",
    "\\\\\n",
    "\\Sigma_k & = \\frac{1}{N_k}\\sum^n_{i=1}{p~(~y = k ~|~x_i~)~(~x_i-\\mu_k)~(~x_i-\\mu_k)^T}~~ \\text{ -- covariance matrix}  \\\\\n",
    "\\pi_k & = \\frac{N_k}{N} ~~ \\text{-- proportion of samples in cluster}~k\n",
    "\\end{align}"
   ]
  },
  {
   "cell_type": "markdown",
   "metadata": {},
   "source": [
    "(4) Repeat `E-Step` and `M-Step` until $(\\mu_1,\\Sigma_1), (\\mu_2,\\Sigma_2),...,(\\mu_k,\\Sigma_k), (\\pi_1, \\pi_2, ..., \\pi_k) $ converge"
   ]
  },
  {
   "cell_type": "markdown",
   "metadata": {},
   "source": [
    "<img src='gmm3.png' width='80%'>\n",
    "\n",
    "`Question`: Compared with KMeans, what differences can you observe in the clusters generated by GMM?"
   ]
  },
  {
   "cell_type": "markdown",
   "metadata": {},
   "source": [
    "#### Metrics to measure Clustering model performance\n",
    "\n",
    "- Let $LL$ be the log-likelihood of the model on the training dataset with $N$ samples, and $k$ is the number of parameters in the model.\n",
    "    - In GMM model, $LL = \\sum^N_{i=1}{\\log{p~(~x_i~)}}$\n",
    "    \n",
    "\n",
    "- AIC (Akaike Information Criterion): \n",
    "$$ AIC = -2/N * LL + 2 * k/N $$\n",
    "\n",
    "- BIC (Bayesian Information Criterion)\n",
    "$$ BIC = -2 * LL + log(N) * k $$\n",
    "\n",
    "\n",
    "- The smaller `AIC` or `BIC`, the better the model. In other words, a complex model is penalized due to its large number of parameters. "
   ]
  },
  {
   "cell_type": "code",
   "execution_count": 13,
   "metadata": {},
   "outputs": [],
   "source": [
    "from sklearn import mixture\n",
    "import numpy as np"
   ]
  },
  {
   "cell_type": "code",
   "execution_count": 14,
   "metadata": {},
   "outputs": [
    {
     "data": {
      "text/plain": [
       "GaussianMixture(covariance_type='spherical', init_params='kmeans', max_iter=100,\n",
       "                means_init=None, n_components=2, n_init=1, precisions_init=None,\n",
       "                random_state=42, reg_covar=1e-06, tol=0.001, verbose=0,\n",
       "                verbose_interval=10, warm_start=False, weights_init=None)"
      ]
     },
     "execution_count": 14,
     "metadata": {},
     "output_type": "execute_result"
    },
    {
     "data": {
      "text/plain": [
       "GaussianMixture(covariance_type='spherical', init_params='kmeans', max_iter=100,\n",
       "                means_init=None, n_components=3, n_init=1, precisions_init=None,\n",
       "                random_state=42, reg_covar=1e-06, tol=0.001, verbose=0,\n",
       "                verbose_interval=10, warm_start=False, weights_init=None)"
      ]
     },
     "execution_count": 14,
     "metadata": {},
     "output_type": "execute_result"
    },
    {
     "data": {
      "text/plain": [
       "GaussianMixture(covariance_type='spherical', init_params='kmeans', max_iter=100,\n",
       "                means_init=None, n_components=4, n_init=1, precisions_init=None,\n",
       "                random_state=42, reg_covar=1e-06, tol=0.001, verbose=0,\n",
       "                verbose_interval=10, warm_start=False, weights_init=None)"
      ]
     },
     "execution_count": 14,
     "metadata": {},
     "output_type": "execute_result"
    },
    {
     "data": {
      "text/plain": [
       "GaussianMixture(covariance_type='tied', init_params='kmeans', max_iter=100,\n",
       "                means_init=None, n_components=2, n_init=1, precisions_init=None,\n",
       "                random_state=42, reg_covar=1e-06, tol=0.001, verbose=0,\n",
       "                verbose_interval=10, warm_start=False, weights_init=None)"
      ]
     },
     "execution_count": 14,
     "metadata": {},
     "output_type": "execute_result"
    },
    {
     "data": {
      "text/plain": [
       "GaussianMixture(covariance_type='tied', init_params='kmeans', max_iter=100,\n",
       "                means_init=None, n_components=3, n_init=1, precisions_init=None,\n",
       "                random_state=42, reg_covar=1e-06, tol=0.001, verbose=0,\n",
       "                verbose_interval=10, warm_start=False, weights_init=None)"
      ]
     },
     "execution_count": 14,
     "metadata": {},
     "output_type": "execute_result"
    },
    {
     "data": {
      "text/plain": [
       "GaussianMixture(covariance_type='tied', init_params='kmeans', max_iter=100,\n",
       "                means_init=None, n_components=4, n_init=1, precisions_init=None,\n",
       "                random_state=42, reg_covar=1e-06, tol=0.001, verbose=0,\n",
       "                verbose_interval=10, warm_start=False, weights_init=None)"
      ]
     },
     "execution_count": 14,
     "metadata": {},
     "output_type": "execute_result"
    },
    {
     "data": {
      "text/plain": [
       "GaussianMixture(covariance_type='diag', init_params='kmeans', max_iter=100,\n",
       "                means_init=None, n_components=2, n_init=1, precisions_init=None,\n",
       "                random_state=42, reg_covar=1e-06, tol=0.001, verbose=0,\n",
       "                verbose_interval=10, warm_start=False, weights_init=None)"
      ]
     },
     "execution_count": 14,
     "metadata": {},
     "output_type": "execute_result"
    },
    {
     "data": {
      "text/plain": [
       "GaussianMixture(covariance_type='diag', init_params='kmeans', max_iter=100,\n",
       "                means_init=None, n_components=3, n_init=1, precisions_init=None,\n",
       "                random_state=42, reg_covar=1e-06, tol=0.001, verbose=0,\n",
       "                verbose_interval=10, warm_start=False, weights_init=None)"
      ]
     },
     "execution_count": 14,
     "metadata": {},
     "output_type": "execute_result"
    },
    {
     "data": {
      "text/plain": [
       "GaussianMixture(covariance_type='diag', init_params='kmeans', max_iter=100,\n",
       "                means_init=None, n_components=4, n_init=1, precisions_init=None,\n",
       "                random_state=42, reg_covar=1e-06, tol=0.001, verbose=0,\n",
       "                verbose_interval=10, warm_start=False, weights_init=None)"
      ]
     },
     "execution_count": 14,
     "metadata": {},
     "output_type": "execute_result"
    }
   ],
   "source": [
    "# We use a small scope of grid search to find the best parameters of GMM\n",
    "\n",
    "lowest_bic = np.infty   # initial BIC is set to infinity\n",
    "best_gmm = None\n",
    "\n",
    "n_components_range = range(2,5)    # The number of clusters\n",
    "\n",
    "cv_types = ['spherical', 'tied', 'diag']  \n",
    "# The covariance type, for details check https://scikit-learn.org/stable/modules/generated/sklearn.mixture.GaussianMixture.html#sklearn.mixture.GaussianMixture.aic\n",
    "\n",
    "for cv_type in cv_types:\n",
    "    \n",
    "    for n_components in n_components_range:\n",
    "        \n",
    "        # Fit a Gaussian mixture with EM\n",
    "        gmm = mixture.GaussianMixture(n_components=n_components,\n",
    "                                     # n_init=2\n",
    "                                      covariance_type=cv_type, random_state=42)\n",
    "        gmm.fit(dtm.toarray())\n",
    "        \n",
    "        bic = gmm.bic(dtm.toarray())  # get Model BIC\n",
    "        \n",
    "        if bic < lowest_bic:  # save the model with lowest BIC sofar\n",
    "            lowest_bic = bic\n",
    "            best_gmm = gmm\n"
   ]
  },
  {
   "cell_type": "code",
   "execution_count": 15,
   "metadata": {},
   "outputs": [
    {
     "data": {
      "text/plain": [
       "-66972865.901762575"
      ]
     },
     "execution_count": 15,
     "metadata": {},
     "output_type": "execute_result"
    },
    {
     "data": {
      "text/plain": [
       "GaussianMixture(covariance_type='diag', init_params='kmeans', max_iter=100,\n",
       "                means_init=None, n_components=4, n_init=1, precisions_init=None,\n",
       "                random_state=42, reg_covar=1e-06, tol=0.001, verbose=0,\n",
       "                verbose_interval=10, warm_start=False, weights_init=None)"
      ]
     },
     "execution_count": 15,
     "metadata": {},
     "output_type": "execute_result"
    }
   ],
   "source": [
    "# Show best model\n",
    "\n",
    "lowest_bic\n",
    "best_gmm"
   ]
  },
  {
   "cell_type": "code",
   "execution_count": 16,
   "metadata": {},
   "outputs": [
    {
     "data": {
      "text/plain": [
       "array([2, 2, 3, 2, 2])"
      ]
     },
     "execution_count": 16,
     "metadata": {},
     "output_type": "execute_result"
    }
   ],
   "source": [
    "# Predict clusters for testing samples\n",
    "\n",
    "test_dtm = tfidf_vect.transform(test[\"text\"])\n",
    "\n",
    "predicted = best_gmm.predict(test_dtm.toarray())\n",
    "predicted[0:5]"
   ]
  },
  {
   "cell_type": "code",
   "execution_count": 17,
   "metadata": {},
   "outputs": [
    {
     "data": {
      "text/plain": [
       "<Figure size 1152x288 with 0 Axes>"
      ]
     },
     "execution_count": 17,
     "metadata": {},
     "output_type": "execute_result"
    },
    {
     "data": {
      "text/plain": [
       "<matplotlib.axes._subplots.AxesSubplot at 0x7fde42e76250>"
      ]
     },
     "execution_count": 17,
     "metadata": {},
     "output_type": "execute_result"
    },
    {
     "data": {
      "text/plain": [
       "<matplotlib.axes._subplots.AxesSubplot at 0x7fde42e76250>"
      ]
     },
     "execution_count": 17,
     "metadata": {},
     "output_type": "execute_result"
    },
    {
     "data": {
      "text/plain": [
       "<matplotlib.axes._subplots.AxesSubplot at 0x7fde42eb8090>"
      ]
     },
     "execution_count": 17,
     "metadata": {},
     "output_type": "execute_result"
    },
    {
     "data": {
      "text/plain": [
       "<matplotlib.axes._subplots.AxesSubplot at 0x7fde42eb8090>"
      ]
     },
     "execution_count": 17,
     "metadata": {},
     "output_type": "execute_result"
    },
    {
     "data": {
      "image/png": "[encoded data removed]",
      "text/plain": [
       "<Figure size 1152x288 with 2 Axes>"
      ]
     },
     "metadata": {
      "needs_background": "light"
     },
     "output_type": "display_data"
    }
   ],
   "source": [
    "# Visualize actual labels and clusters\n",
    "# Note, the plot with reduce dimensionality may not reflect \n",
    "# the real distribution of samples in the high-dimension space\n",
    "from sklearn.decomposition import PCA\n",
    "pca = PCA(n_components=2)\n",
    "X = pca.fit_transform(test_dtm.toarray())\n",
    "\n",
    "plt.figure(figsize=(16, 4))\n",
    "plt.subplot(1,2,1)\n",
    "sns.scatterplot(x=X[:,0], y=X[:,1], hue = test[\"label\"], palette=['green','orange','blue'] )\n",
    "\n",
    "plt.subplot(1,2,2)\n",
    "sns.scatterplot(x=X[:,0], y=X[:,1], hue = predicted, palette=['blue','red','green','orange'] )\n",
    "plt.show()"
   ]
  },
  {
   "cell_type": "code",
   "execution_count": 18,
   "metadata": {},
   "outputs": [
    {
     "data": {
      "text/html": [
       "<div>\n",
       "<style scoped>\n",
       "    .dataframe tbody tr th:only-of-type {\n",
       "        vertical-align: middle;\n",
       "    }\n",
       "\n",
       "    .dataframe tbody tr th {\n",
       "        vertical-align: top;\n",
       "    }\n",
       "\n",
       "    .dataframe thead th {\n",
       "        text-align: right;\n",
       "    }\n",
       "</style>\n",
       "<table border=\"1\" class=\"dataframe\">\n",
       "  <thead>\n",
       "    <tr style=\"text-align: right;\">\n",
       "      <th></th>\n",
       "      <th>label</th>\n",
       "      <th>cluster</th>\n",
       "    </tr>\n",
       "  </thead>\n",
       "  <tbody>\n",
       "    <tr>\n",
       "      <th>0</th>\n",
       "      <td>sci.med</td>\n",
       "      <td>2</td>\n",
       "    </tr>\n",
       "    <tr>\n",
       "      <th>1</th>\n",
       "      <td>sci.med</td>\n",
       "      <td>2</td>\n",
       "    </tr>\n",
       "    <tr>\n",
       "      <th>2</th>\n",
       "      <td>comp.graphics</td>\n",
       "      <td>3</td>\n",
       "    </tr>\n",
       "    <tr>\n",
       "      <th>3</th>\n",
       "      <td>sci.med</td>\n",
       "      <td>2</td>\n",
       "    </tr>\n",
       "    <tr>\n",
       "      <th>4</th>\n",
       "      <td>comp.graphics</td>\n",
       "      <td>2</td>\n",
       "    </tr>\n",
       "  </tbody>\n",
       "</table>\n",
       "</div>"
      ],
      "text/plain": [
       "           label  cluster\n",
       "0        sci.med        2\n",
       "1        sci.med        2\n",
       "2  comp.graphics        3\n",
       "3        sci.med        2\n",
       "4  comp.graphics        2"
      ]
     },
     "execution_count": 18,
     "metadata": {},
     "output_type": "execute_result"
    },
    {
     "data": {
      "text/html": [
       "<div>\n",
       "<style scoped>\n",
       "    .dataframe tbody tr th:only-of-type {\n",
       "        vertical-align: middle;\n",
       "    }\n",
       "\n",
       "    .dataframe tbody tr th {\n",
       "        vertical-align: top;\n",
       "    }\n",
       "\n",
       "    .dataframe thead th {\n",
       "        text-align: right;\n",
       "    }\n",
       "</style>\n",
       "<table border=\"1\" class=\"dataframe\">\n",
       "  <thead>\n",
       "    <tr style=\"text-align: right;\">\n",
       "      <th>label</th>\n",
       "      <th>comp.graphics</th>\n",
       "      <th>sci.med</th>\n",
       "      <th>soc.religion.christian</th>\n",
       "    </tr>\n",
       "    <tr>\n",
       "      <th>cluster</th>\n",
       "      <th></th>\n",
       "      <th></th>\n",
       "      <th></th>\n",
       "    </tr>\n",
       "  </thead>\n",
       "  <tbody>\n",
       "    <tr>\n",
       "      <th>0</th>\n",
       "      <td>1</td>\n",
       "      <td>2</td>\n",
       "      <td>111</td>\n",
       "    </tr>\n",
       "    <tr>\n",
       "      <th>1</th>\n",
       "      <td>0</td>\n",
       "      <td>4</td>\n",
       "      <td>0</td>\n",
       "    </tr>\n",
       "    <tr>\n",
       "      <th>2</th>\n",
       "      <td>7</td>\n",
       "      <td>108</td>\n",
       "      <td>5</td>\n",
       "    </tr>\n",
       "    <tr>\n",
       "      <th>3</th>\n",
       "      <td>99</td>\n",
       "      <td>15</td>\n",
       "      <td>4</td>\n",
       "    </tr>\n",
       "  </tbody>\n",
       "</table>\n",
       "</div>"
      ],
      "text/plain": [
       "label    comp.graphics  sci.med  soc.religion.christian\n",
       "cluster                                                \n",
       "0                    1        2                     111\n",
       "1                    0        4                       0\n",
       "2                    7      108                       5\n",
       "3                   99       15                       4"
      ]
     },
     "execution_count": 18,
     "metadata": {},
     "output_type": "execute_result"
    }
   ],
   "source": [
    "# Generate confusion table\n",
    "\n",
    "confusion_df = pd.DataFrame(list(zip(test[\"label\"].values, predicted)),\\\n",
    "                            columns = [\"label\", \"cluster\"])\n",
    "confusion_df.head()\n",
    "\n",
    "# generate crosstab between clusters and true labels\n",
    "pd.crosstab( index=confusion_df.cluster, columns=confusion_df.label)"
   ]
  },
  {
   "cell_type": "code",
   "execution_count": 19,
   "metadata": {},
   "outputs": [
    {
     "name": "stdout",
     "output_type": "stream",
     "text": [
      "                        precision    recall  f1-score   support\n",
      "\n",
      "         comp.graphics       0.84      0.93      0.88       107\n",
      "               sci.med       0.90      0.87      0.89       129\n",
      "soc.religion.christian       0.97      0.93      0.95       120\n",
      "\n",
      "              accuracy                           0.90       356\n",
      "             macro avg       0.91      0.91      0.90       356\n",
      "          weighted avg       0.91      0.90      0.91       356\n",
      "\n"
     ]
    }
   ],
   "source": [
    "#  Create the mapping and calculate performance\n",
    "\n",
    "cluster_dict={0:'soc.religion.christian', 1:\"sci.med\",2:\"sci.med\",\\\n",
    "              3:'comp.graphics'}\n",
    "\n",
    "# Map true label to cluster id\n",
    "predicted_target=[cluster_dict[i] \\\n",
    "                  for i in predicted]\n",
    "\n",
    "print(metrics.classification_report\\\n",
    "      (test[\"label\"], predicted_target))\n",
    "\n"
   ]
  },
  {
   "cell_type": "code",
   "execution_count": null,
   "metadata": {},
   "outputs": [],
   "source": []
  }
 ],
 "metadata": {
  "kernelspec": {
   "display_name": "Python 3",
   "language": "python",
   "name": "python3"
  },
  "language_info": {
   "codemirror_mode": {
    "name": "ipython",
    "version": 3
   },
   "file_extension": ".py",
   "mimetype": "text/x-python",
   "name": "python",
   "nbconvert_exporter": "python",
   "pygments_lexer": "ipython3",
   "version": "3.7.6"
  }
 },
 "nbformat": 4,
 "nbformat_minor": 2
}
