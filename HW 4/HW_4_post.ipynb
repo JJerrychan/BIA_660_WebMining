{
 "cells": [
  {
   "cell_type": "markdown",
   "metadata": {
    "id": "WE9WGE_m-4J-"
   },
   "source": [
    "# HW 4: Preprocessing"
   ]
  },
  {
   "cell_type": "markdown",
   "metadata": {
    "id": "hKVEJOmf-4KC"
   },
   "source": [
    "## Q1: Extract data using regular expression (2 points)\n",
    "Suppose you have scraped the text shown below from an online source (https://www.google.com/finance/). \n",
    "Define a `extract` function which:\n",
    "- takes a piece of text (in the format of shown below) as an input\n",
    "- extracts data into a DataFrame with columns 'Ticker','Name','Article','Media','Time','Price',and 'Change' using regular expression\n",
    "- returns the DataFrame"
   ]
  },
  {
   "cell_type": "code",
   "execution_count": 1,
   "metadata": {
    "ExecuteTime": {
     "end_time": "2021-10-19T07:27:54.060105Z",
     "start_time": "2021-10-19T07:27:50.568579Z"
    },
    "id": "Cq9Xzhnw-4KD"
   },
   "outputs": [],
   "source": [
    "import pandas as pd\n",
    "import nltk\n",
    "from sklearn.metrics import pairwise_distances\n",
    "import numpy as np\n",
    "from matplotlib import pyplot as plt\n",
    "from sklearn.preprocessing import normalize\n",
    "import re\n",
    "import spacy\n",
    "\n",
    "from IPython.core.interactiveshell import InteractiveShell\n",
    "InteractiveShell.ast_node_interactivity = \"all\"\n"
   ]
  },
  {
   "cell_type": "code",
   "execution_count": 2,
   "metadata": {},
   "outputs": [],
   "source": [
    "text = '''QQQ\n",
    "Invesco QQQ Trust Series 1\n",
    "Invesco Expands QQQ Innovation Suite to Include Small-Cap ETF\n",
    "PR Newswire • 4 hours ago\n",
    "$265.62\n",
    "1.13%\n",
    "add_circle_outline\n",
    "AAPL\n",
    "Apple Inc\n",
    "Estimating The Fair Value Of Apple Inc. (NASDAQ:AAPL)\n",
    "Yahoo Finance • 4 hours ago\n",
    "$140.41\n",
    "1.50%\n",
    "add_circle_outline\n",
    "TSLA\n",
    "Tesla Inc\n",
    "Could This Tesla Stock Unbalanced Iron Condor Return 23%?\n",
    "Investor's Business Daily • 1 hour ago\n",
    "$218.30\n",
    "0.49%\n",
    "add_circle_outline\n",
    "AMZN\n",
    "Amazon.com, Inc.\n",
    "The Regulators of Facebook, Google and Amazon Also Invest in the Companies' Stocks\n",
    "Wall Street Journal • 2 days ago\n",
    "$110.91\n",
    "1.76%\n",
    "add_circle_outline'''\n",
    "\n"
   ]
  },
  {
   "cell_type": "code",
   "execution_count": 3,
   "metadata": {
    "ExecuteTime": {
     "end_time": "2021-10-19T07:27:54.082105Z",
     "start_time": "2021-10-19T07:27:54.072106Z"
    },
    "id": "StFfIbLB-4KG"
   },
   "outputs": [],
   "source": [
    "def extract(text):\n",
    "\n",
    "    # add your codes\n",
    "    col = ('Ticker', 'Name', 'Article', 'Media', 'Time', 'Price', 'Change')\n",
    "    match = re.findall(\n",
    "        r'([A-Z]+)\\n(.+)\\n(.+)\\n(.+) • (.+)\\n(\\$\\d+\\.\\d{2})\\n(\\d\\.\\d{2}\\%)', text)\n",
    "\n",
    "    result = pd.DataFrame(match, columns=col)\n",
    "\n",
    "    return result\n"
   ]
  },
  {
   "cell_type": "code",
   "execution_count": 4,
   "metadata": {
    "ExecuteTime": {
     "end_time": "2021-10-19T07:27:54.094108Z",
     "start_time": "2021-10-19T07:27:54.084106Z"
    }
   },
   "outputs": [
    {
     "data": {
      "text/html": [
       "<div>\n",
       "<style scoped>\n",
       "    .dataframe tbody tr th:only-of-type {\n",
       "        vertical-align: middle;\n",
       "    }\n",
       "\n",
       "    .dataframe tbody tr th {\n",
       "        vertical-align: top;\n",
       "    }\n",
       "\n",
       "    .dataframe thead th {\n",
       "        text-align: right;\n",
       "    }\n",
       "</style>\n",
       "<table border=\"1\" class=\"dataframe\">\n",
       "  <thead>\n",
       "    <tr style=\"text-align: right;\">\n",
       "      <th></th>\n",
       "      <th>Ticker</th>\n",
       "      <th>Name</th>\n",
       "      <th>Article</th>\n",
       "      <th>Media</th>\n",
       "      <th>Time</th>\n",
       "      <th>Price</th>\n",
       "      <th>Change</th>\n",
       "    </tr>\n",
       "  </thead>\n",
       "  <tbody>\n",
       "    <tr>\n",
       "      <th>0</th>\n",
       "      <td>QQQ</td>\n",
       "      <td>Invesco QQQ Trust Series 1</td>\n",
       "      <td>Invesco Expands QQQ Innovation Suite to Includ...</td>\n",
       "      <td>PR Newswire</td>\n",
       "      <td>4 hours ago</td>\n",
       "      <td>$265.62</td>\n",
       "      <td>1.13%</td>\n",
       "    </tr>\n",
       "    <tr>\n",
       "      <th>1</th>\n",
       "      <td>AAPL</td>\n",
       "      <td>Apple Inc</td>\n",
       "      <td>Estimating The Fair Value Of Apple Inc. (NASDA...</td>\n",
       "      <td>Yahoo Finance</td>\n",
       "      <td>4 hours ago</td>\n",
       "      <td>$140.41</td>\n",
       "      <td>1.50%</td>\n",
       "    </tr>\n",
       "    <tr>\n",
       "      <th>2</th>\n",
       "      <td>TSLA</td>\n",
       "      <td>Tesla Inc</td>\n",
       "      <td>Could This Tesla Stock Unbalanced Iron Condor ...</td>\n",
       "      <td>Investor's Business Daily</td>\n",
       "      <td>1 hour ago</td>\n",
       "      <td>$218.30</td>\n",
       "      <td>0.49%</td>\n",
       "    </tr>\n",
       "    <tr>\n",
       "      <th>3</th>\n",
       "      <td>AMZN</td>\n",
       "      <td>Amazon.com, Inc.</td>\n",
       "      <td>The Regulators of Facebook, Google and Amazon ...</td>\n",
       "      <td>Wall Street Journal</td>\n",
       "      <td>2 days ago</td>\n",
       "      <td>$110.91</td>\n",
       "      <td>1.76%</td>\n",
       "    </tr>\n",
       "  </tbody>\n",
       "</table>\n",
       "</div>"
      ],
      "text/plain": [
       "  Ticker                        Name  \\\n",
       "0    QQQ  Invesco QQQ Trust Series 1   \n",
       "1   AAPL                   Apple Inc   \n",
       "2   TSLA                   Tesla Inc   \n",
       "3   AMZN            Amazon.com, Inc.   \n",
       "\n",
       "                                             Article  \\\n",
       "0  Invesco Expands QQQ Innovation Suite to Includ...   \n",
       "1  Estimating The Fair Value Of Apple Inc. (NASDA...   \n",
       "2  Could This Tesla Stock Unbalanced Iron Condor ...   \n",
       "3  The Regulators of Facebook, Google and Amazon ...   \n",
       "\n",
       "                       Media         Time    Price Change  \n",
       "0                PR Newswire  4 hours ago  $265.62  1.13%  \n",
       "1              Yahoo Finance  4 hours ago  $140.41  1.50%  \n",
       "2  Investor's Business Daily   1 hour ago  $218.30  0.49%  \n",
       "3        Wall Street Journal   2 days ago  $110.91  1.76%  "
      ]
     },
     "execution_count": 4,
     "metadata": {},
     "output_type": "execute_result"
    }
   ],
   "source": [
    "extract(text)"
   ]
  },
  {
   "cell_type": "markdown",
   "metadata": {
    "id": "Aab-6OWh-4KI"
   },
   "source": [
    "## Q2: Analyze a document (8 points)\n",
    "\n",
    "When you have a long document, you would like to \n",
    "- Quanitfy how concrete a sentence is\n",
    "- Create a concise summary while preserving it's key information content and overall meaning. Let's implement an `extractive method` based on the concept of TF-IDF. The idea is to identify the key sentences from an article and use them as a summary. \n",
    "\n",
    "\n",
    "Carefully follow the following steps to achieve these two targets."
   ]
  },
  {
   "cell_type": "markdown",
   "metadata": {
    "id": "hsnCv2VZ-4KI"
   },
   "source": [
    "### Q2.1. Preprocess the input document (4 points, each step 0.5 point (see below), overall function and logic 2 points)\n",
    "\n",
    "Define a function `proprocess(doc, lemmatized = True, remove_stopword = True, lower_case = True, remove_punctuation = True, pos_tag = False)` \n",
    "- Inputs with four parameters:\n",
    "    - `doc`: an input string (e.g. a document)\n",
    "    - `lemmatized`: an optional boolean parameter to indicate if tokens are lemmatized. The default value is True (i.e. tokens are lemmatized).\n",
    "    - `remove_stopword`: an optional boolean parameter to remove stop words. The default value is True, i.e., remove stop words. \n",
    "    - `remove_punctuation`: optional boolean parameter to remove punctuations. The default values is True, i.e., remove all punctuations.\n",
    "    - `lower_case`: optional boolean parameter to convert all tokens to lower case. The default option is True, i.e., lowercase all tokens.\n",
    "    - `pos_tag`: optional boolean parameter to add a POS tag for each token. The default option is False, i.e., no POS tagging.  \n",
    "       \n",
    "- Split the input `doc` into sentences. Hint, typically, \"\\n\\n\" is used to separate paragraphs. Make sure each sentence does not cross over two paragraphs. (0.5 point)\n",
    "\n",
    "\n",
    "- Tokenize each sentence into unigram tokens and also process the tokens as follows:\n",
    "    - If `lemmatized` is True, lemmatize all unigrams. (0.5 point)\n",
    "    - If `remove_stopword` is set to True, remove all stop words. (0.5 point)\n",
    "    - If `remove_punctuation` is set to True, remove all punctuations. (0.5 point)\n",
    "    - If `lower_case` is set to True, convert all tokens to lower case (0.5 point)\n",
    "    - If `pos_tag` is set to True, find the POS tag for each token and form a tuple for each token, e.g., ('recently', 'ADV'). Either Penn tags or Universal tags are fine. See mapping of these two tagging systems here: https://universaldependencies.org/tagset-conversion/en-penn-uposf.html\n",
    "\n",
    "- Return the original sentence list (`sents`) and also the tokenized (or tagged) sentence list (`tokenized_sents`). \n",
    "   \n",
    "(Hint: you can use [nltk](https://www.nltk.org/api/nltk.html) and [spacy](https://spacy.io/api/token#attributes) package for this task.)"
   ]
  },
  {
   "cell_type": "code",
   "execution_count": 5,
   "metadata": {
    "ExecuteTime": {
     "end_time": "2021-10-19T07:27:54.556104Z",
     "start_time": "2021-10-19T07:27:54.096107Z"
    },
    "id": "A9gBjG6V-4KK"
   },
   "outputs": [],
   "source": [
    "nlp = spacy.load(\"en_core_web_sm\")\n",
    "\n",
    "\n",
    "def preprocess(doc, lemmatized=True, pos_tag=False, remove_stopword=True, lower_case=True, remove_punctuation=True):\n",
    "\n",
    "    # add your codes\n",
    "\n",
    "    docs = nlp(doc.replace('\\n\\n', '. '))\n",
    "    sents = list(docs.sents)\n",
    "    tokenized_sents = []\n",
    "    for sent in docs.sents:\n",
    "        tokenized_sent = []\n",
    "        for token in sent:\n",
    "            text = token.text\n",
    "            if lemmatized:\n",
    "                text = token.lemma_\n",
    "            if remove_stopword:\n",
    "                if token.is_stop:\n",
    "                    continue\n",
    "            if remove_punctuation:\n",
    "                if token.is_punct:\n",
    "                    continue\n",
    "            if lower_case:\n",
    "                text = text.lower()\n",
    "            if pos_tag:\n",
    "                text = (text, token.pos_)\n",
    "\n",
    "            tokenized_sent.append(text)\n",
    "\n",
    "        tokenized_sents.append(tokenized_sent)\n",
    "\n",
    "    return sents, tokenized_sents\n"
   ]
  },
  {
   "cell_type": "code",
   "execution_count": 6,
   "metadata": {
    "ExecuteTime": {
     "end_time": "2021-10-19T07:27:54.566108Z",
     "start_time": "2021-10-19T07:27:54.558107Z"
    },
    "colab": {
     "base_uri": "https://localhost:8080/"
    },
    "id": "kenx0JgK-4KL",
    "outputId": "309988ea-efde-4cd6-ed0b-45ad8a566b26"
   },
   "outputs": [],
   "source": [
    "# load test document\n",
    "\n",
    "text = open(\"power_of_nlp.txt\", \"r\", encoding='utf-8').read()"
   ]
  },
  {
   "cell_type": "code",
   "execution_count": 7,
   "metadata": {
    "ExecuteTime": {
     "end_time": "2021-10-19T07:27:56.835401Z",
     "start_time": "2021-10-19T07:27:54.568105Z"
    },
    "colab": {
     "base_uri": "https://localhost:8080/"
    },
    "id": "drwiHlEb-4KL",
    "outputId": "fe258009-9ff4-43c4-eb71-1a2876e6084d"
   },
   "outputs": [
    {
     "name": "stdout",
     "output_type": "stream",
     "text": [
      "The Power of Natural Language Processing. \n",
      " ['power', 'natural', 'language', 'processing'] \n",
      "\n",
      "\n",
      "Until recently, the conventional wisdom was that while AI was better than humans at data-driven decision making tasks, it was still inferior to humans for cognitive and creative ones. \n",
      " ['recently', 'conventional', 'wisdom', 'ai', 'well', 'human', 'data', 'drive', 'decision', 'make', 'task', 'inferior', 'human', 'cognitive', 'creative', 'one'] \n",
      "\n",
      "\n",
      "But in the past two years language-based AI has advanced by leaps and bounds, changing common notions of what this technology can do.. . \n",
      " ['past', 'year', 'language', 'base', 'ai', 'advance', 'leap', 'bound', 'change', 'common', 'notion', 'technology'] \n",
      "\n",
      "\n"
     ]
    }
   ],
   "source": [
    "# test with all default options:\n",
    "\n",
    "sents, tokenized_sents = preprocess(text)\n",
    "for i in range(3):\n",
    "    print(sents[i], \"\\n\",tokenized_sents[i],\"\\n\\n\" )"
   ]
  },
  {
   "cell_type": "code",
   "execution_count": 8,
   "metadata": {},
   "outputs": [
    {
     "name": "stdout",
     "output_type": "stream",
     "text": [
      "The Power of Natural Language Processing. \n",
      " [('The', 'DET'), ('Power', 'PROPN'), ('of', 'ADP'), ('Natural', 'PROPN'), ('Language', 'PROPN'), ('Processing', 'PROPN'), ('.', 'PUNCT')] \n",
      "\n",
      "\n",
      "Until recently, the conventional wisdom was that while AI was better than humans at data-driven decision making tasks, it was still inferior to humans for cognitive and creative ones. \n",
      " [('Until', 'ADP'), ('recently', 'ADV'), (',', 'PUNCT'), ('the', 'DET'), ('conventional', 'ADJ'), ('wisdom', 'NOUN'), ('was', 'AUX'), ('that', 'SCONJ'), ('while', 'SCONJ'), ('AI', 'PROPN'), ('was', 'AUX'), ('better', 'ADJ'), ('than', 'ADP'), ('humans', 'NOUN'), ('at', 'ADP'), ('data', 'NOUN'), ('-', 'PUNCT'), ('driven', 'VERB'), ('decision', 'NOUN'), ('making', 'VERB'), ('tasks', 'NOUN'), (',', 'PUNCT'), ('it', 'PRON'), ('was', 'AUX'), ('still', 'ADV'), ('inferior', 'ADJ'), ('to', 'ADP'), ('humans', 'NOUN'), ('for', 'ADP'), ('cognitive', 'ADJ'), ('and', 'CCONJ'), ('creative', 'ADJ'), ('ones', 'NOUN'), ('.', 'PUNCT')] \n",
      "\n",
      "\n",
      "But in the past two years language-based AI has advanced by leaps and bounds, changing common notions of what this technology can do.. . \n",
      " [('But', 'CCONJ'), ('in', 'ADP'), ('the', 'DET'), ('past', 'ADJ'), ('two', 'NUM'), ('years', 'NOUN'), ('language', 'NOUN'), ('-', 'PUNCT'), ('based', 'VERB'), ('AI', 'PROPN'), ('has', 'AUX'), ('advanced', 'VERB'), ('by', 'ADP'), ('leaps', 'NOUN'), ('and', 'CCONJ'), ('bounds', 'NOUN'), (',', 'PUNCT'), ('changing', 'VERB'), ('common', 'ADJ'), ('notions', 'NOUN'), ('of', 'ADP'), ('what', 'PRON'), ('this', 'DET'), ('technology', 'NOUN'), ('can', 'AUX'), ('do', 'AUX'), ('..', 'PUNCT'), ('.', 'PUNCT')] \n",
      "\n",
      "\n"
     ]
    }
   ],
   "source": [
    "# process text without remove stopwords, punctuation, lowercase, but with pos tagging\n",
    "\n",
    "sents, tokenized_sents = preprocess(text, lemmatized = False, pos_tag = True, \n",
    "                                    remove_stopword=False, remove_punctuation = False, \n",
    "                                    lower_case = False)\n",
    "\n",
    "for i in range(3):\n",
    "    print(sents[i], \"\\n\",tokenized_sents[i],\"\\n\\n\" )"
   ]
  },
  {
   "cell_type": "markdown",
   "metadata": {},
   "source": [
    "### Q2.2. Quantify sentence concreteness\n",
    "\n",
    "\n",
    "`Concreteness` can increase a message's persuasion. The concreteness can be measured by:\n",
    "- the use of `article` (e.g., a, an, and the), \n",
    "- `adpositions` (e.g., in, at, of, on, etc), and\n",
    "- `quantifiers`, i.e., adjectives before nouns.\n",
    "\n",
    "\n",
    "Define a function `compute_concreteness(tagged_sent)` as follows:\n",
    "- Input argument is `tagged_sent`, a list with (token, pos_tag) tuples as shown above.\n",
    "- Find the three types of tokens: `articles`, `adposition`, and `quantifiers`.\n",
    "- Compute `concereness` score as:  `(the sum of the counts of the three types of tokens)/(total non-punctuation tokens)`.\n",
    "- return the concreteness score, articles, adposition, and quantifiers lists.\n",
    "\n",
    "\n",
    "Find the most concrete and the least concrete sentences from the article. \n",
    "\n",
    "\n",
    "Reference: Peer to Peer Lending: The Relationship Between Language Features, Trustworthiness, and Persuasion Success, https://socialmedialab.sites.stanford.edu/sites/g/files/sbiybj22976/files/media/file/larrimore-jacr-peer-to-peer.pdf"
   ]
  },
  {
   "cell_type": "code",
   "execution_count": 9,
   "metadata": {},
   "outputs": [],
   "source": [
    "def compute_concreteness(tagged_sent):\n",
    "\n",
    "    # add your codes\n",
    "    articles = []\n",
    "    adpositions = []\n",
    "    quantifier = []\n",
    "    non_punct = 0\n",
    "\n",
    "    for idx, token in enumerate(tagged_sent):\n",
    "        (word, tag) = token\n",
    "        if word.lower() in ['a', 'an', 'the']:\n",
    "            articles.append(token)\n",
    "        if tag == 'ADP':\n",
    "            adpositions.append(token)\n",
    "        if tag == 'ADJ' and idx < len(tagged_sent) - 1 and tagged_sent[idx + 1][1] == 'NOUN':\n",
    "            quantifier.append(token)\n",
    "\n",
    "        if tag != 'PUNCT':\n",
    "            non_punct += 1\n",
    "\n",
    "    concreteness = (len(articles) + len(adpositions) +\n",
    "                    len(quantifier)) / non_punct\n",
    "    return concreteness, articles, adpositions, quantifier\n"
   ]
  },
  {
   "cell_type": "code",
   "execution_count": 10,
   "metadata": {},
   "outputs": [],
   "source": [
    "# tokenize with pos tag, without change the text much\n",
    "\n",
    "sents, tokenized_sents = preprocess(text, lemmatized = False, pos_tag = True, \n",
    "                                    remove_stopword=False, remove_punctuation = False, \n",
    "                                    lower_case = False)\n",
    "\n"
   ]
  },
  {
   "cell_type": "code",
   "execution_count": 11,
   "metadata": {},
   "outputs": [
    {
     "data": {
      "text/plain": [
       "Until recently, the conventional wisdom was that while AI was better than humans at data-driven decision making tasks, it was still inferior to humans for cognitive and creative ones."
      ]
     },
     "execution_count": 11,
     "metadata": {},
     "output_type": "execute_result"
    },
    {
     "data": {
      "text/plain": [
       "(0.26666666666666666,\n",
       " [('the', 'DET')],\n",
       " [('Until', 'ADP'),\n",
       "  ('than', 'ADP'),\n",
       "  ('at', 'ADP'),\n",
       "  ('to', 'ADP'),\n",
       "  ('for', 'ADP')],\n",
       " [('conventional', 'ADJ'), ('creative', 'ADJ')])"
      ]
     },
     "execution_count": 11,
     "metadata": {},
     "output_type": "execute_result"
    }
   ],
   "source": [
    "# Test with one sentence\n",
    "\n",
    "idx = 1\n",
    "x = tokenized_sents[idx]\n",
    "concreteness, articles, adpositions,quantifier = compute_concreteness(x)\n",
    "sents[idx]\n",
    "concreteness, articles, adpositions,quantifier"
   ]
  },
  {
   "cell_type": "code",
   "execution_count": 12,
   "metadata": {},
   "outputs": [
    {
     "name": "stdout",
     "output_type": "stream",
     "text": [
      "The most concerete sentence:  Large foundation models like GPT-3 exhibit abilities to generalize to a large number of tasks without any task-specific training., 0.450\n",
      "\n",
      "The least concerete sentence:  What NLP Can Do., 0.000\n"
     ]
    }
   ],
   "source": [
    "# Find the most concrete and the least concrete sentences from the article\n",
    "\n",
    "concrete = [compute_concreteness(x)[0] for x in tokenized_sents]\n",
    "max_id = np.argmax(np.array(concrete))\n",
    "min_id = np.argmin(np.array(concrete))\n",
    "print (f\"The most concerete sentence:  {sents[max_id]}, {concrete[max_id]:.3f}\\n\")\n",
    "print (f\"The least concerete sentence:  {sents[min_id]}, {concrete[min_id]:.3f}\")"
   ]
  },
  {
   "cell_type": "markdown",
   "metadata": {
    "id": "SFBMtpV7-4KM"
   },
   "source": [
    "### Q2.3. Generate TF-IDF representations for sentences (1 point,  0.5 point for use_idf option, 0.5 point for overall)\n",
    "\n",
    "Define a function `compute_tf_idf(sents, use_idf)` as follows: \n",
    "\n",
    "\n",
    "- Take the following two inputs:\n",
    "    - `sents`: tokenized sentences returned from Q2.1. These sentences form a corpus for you to calculate `TF-IDF` vectors.\n",
    "    - `use_idf`: if this option is true, return smoothed normalized `TF_IDF` vectors for all sentences; otherwise, just return normalized `TF` vector for each sentence.\n",
    "    \n",
    "    \n",
    "- Calculate `TF-IDF` vectors as shown in the lecture notes (Hint: you can slightly modify code segment 7.5 in NLP Lecture Notes (II) for this task)\n",
    "\n",
    "- Return the `TF-IDF` vectors  if `use_idf` is True.  Return the `TF` vectors if `use_idf` is False."
   ]
  },
  {
   "cell_type": "code",
   "execution_count": 13,
   "metadata": {
    "ExecuteTime": {
     "end_time": "2021-10-19T07:27:56.846403Z",
     "start_time": "2021-10-19T07:27:56.837402Z"
    },
    "id": "pq9vq7uP-4KM"
   },
   "outputs": [],
   "source": [
    "def compute_tf_idf(sents, use_idf=True, min_df=1):\n",
    "\n",
    "    # add your codes\n",
    "    docs_tokens = {idx: {token: sent.count(token)\n",
    "                         for token in set(sent)}\n",
    "                   for idx, sent in enumerate(sents)}\n",
    "\n",
    "    dtm = pd.DataFrame.from_dict(docs_tokens, orient=\"index\")\n",
    "    dtm = dtm.fillna(0)\n",
    "    dtm = dtm.sort_index(axis=0)\n",
    "\n",
    "    tf = dtm.values\n",
    "    doc_len = tf.sum(axis=1, keepdims=True)\n",
    "    tf = np.divide(tf, doc_len)\n",
    "\n",
    "    df = np.where(tf > 0, 1, 0)\n",
    "\n",
    "    smoothed_idf = np.log(np.divide(len(sents)+1, np.sum(df, axis=0)+1))+1\n",
    "    smoothed_tf_idf = tf*smoothed_idf\n",
    "\n",
    "    return smoothed_tf_idf if use_idf else tf\n"
   ]
  },
  {
   "cell_type": "code",
   "execution_count": 14,
   "metadata": {
    "ExecuteTime": {
     "end_time": "2021-10-19T07:27:57.344401Z",
     "start_time": "2021-10-19T07:27:56.848401Z"
    },
    "colab": {
     "base_uri": "https://localhost:8080/"
    },
    "id": "OBOzkpEk-4KN",
    "outputId": "8a38a63c-b55c-44f5-b2bf-a3b3b5a7d4c0"
   },
   "outputs": [
    {
     "data": {
      "text/plain": [
       "(80, 488)"
      ]
     },
     "execution_count": 14,
     "metadata": {},
     "output_type": "execute_result"
    }
   ],
   "source": [
    "sents, tokenized_sents = preprocess(text)\n",
    "tf_idf = compute_tf_idf(tokenized_sents, use_idf = True)\n",
    "\n",
    "# show shape of TF-IDF\n",
    "tf_idf.shape"
   ]
  },
  {
   "cell_type": "markdown",
   "metadata": {
    "id": "mEYffajS-4KN"
   },
   "source": [
    "### Q2.4. Identify key sentences as summary \n",
    "\n",
    "`2 points, 0.5 point for steps 1-3 each, 0.5 for overall logic. Due ot different packages used, the output summary sentences may not be the same as the sample output. If different, please check the code to check if the coding logic is correct`\n",
    "\n",
    "The basic idea is that, in a coherence article, all sentences should center around some key ideas. If we can identify a subset of sentences, denoted as $S_{key}$, which precisely capture the key ideas,  then $S_{key}$ can be used as a summary. Moreover, $S_{key}$ should have high similarity to all the other sentences on average, because all sentences are centered around the key ideas contained in $S_{key}$. Therefore, we can identify whether a sentence belongs to $S_{key}$ by its similarity to all the other sentences.\n",
    "\n",
    "\n",
    "Define a function `get_summary(tf_idf, sents, topN = 5)`  as follows:\n",
    "\n",
    "- This function takes three inputs:\n",
    "    - `tf_idf`: the TF-IDF vectors of all the sentences in a document\n",
    "    - `sents`: the original sentences corresponding to the TF-IDF vectors\n",
    "    - `topN`: the top N sentences in the generated summary\n",
    "\n",
    "- Steps:\n",
    "    1. Calculate the cosine similarity for every pair of TF-IDF vectors (0.5 point)\n",
    "    1. For each sentence, calculate its average similarity to all the others (0.5 point)\n",
    "    1. Select the sentences with the `topN` largest average similarity (0.5 point)\n",
    "    1. Print the `topN` sentences index\n",
    "    1. Return these sentences as the summary"
   ]
  },
  {
   "cell_type": "code",
   "execution_count": 85,
   "metadata": {
    "ExecuteTime": {
     "end_time": "2021-10-19T07:29:47.949165Z",
     "start_time": "2021-10-19T07:29:47.945086Z"
    },
    "id": "gDqgTk8c-4KO"
   },
   "outputs": [],
   "source": [
    "def get_summary(tf_idf, sents, topN=5):\n",
    "\n",
    "    # add your codes\n",
    "    similarity = 1 - pairwise_distances(tf_idf, metric='cosine')\n",
    "\n",
    "    avg_similarity = list(\n",
    "        map(lambda s: s / len(sents), similarity.sum(axis=0)))\n",
    "\n",
    "    index = np.argsort(avg_similarity)[::-1][:topN]\n",
    "    summary = map(lambda idx: sents[idx], index)\n",
    "\n",
    "    return summary\n"
   ]
  },
  {
   "cell_type": "code",
   "execution_count": 86,
   "metadata": {
    "ExecuteTime": {
     "end_time": "2021-10-19T07:29:50.689152Z",
     "start_time": "2021-10-19T07:29:48.264799Z"
    },
    "colab": {
     "base_uri": "https://localhost:8080/"
    },
    "id": "Sw5L48aK-4KO",
    "outputId": "1d5109ef-432f-4cf5-d0b6-46d1b08dc96e"
   },
   "outputs": [
    {
     "name": "stdout",
     "output_type": "stream",
     "text": [
      "Begin incorporating new language-based AI tools for a variety of tasks to better understand their capabilities.. \n",
      "\n",
      "Models like GPT-3 are considered to be foundation models — an emerging AI research area — which also work for other types of data such as images and video. \n",
      "\n",
      "Powerful generalizable language-based AI tools like Elicit are here, and they are just the tip of the iceberg; multimodal foundation model-based tools are poised to transform business in ways that are still difficult to predict. \n",
      "\n",
      "A Language-Based AI Research Assistant. \n",
      "\n",
      "Understand how you might leverage AI-based language technologies to make better decisions or reorganize your skilled labor.. Language-based AI won’t replace jobs, but it will automate many tasks, even for decision makers. \n",
      "\n"
     ]
    }
   ],
   "source": [
    "# put everything together and test with different options\n",
    "\n",
    "sents, tokenized_sents = preprocess(text)\n",
    "tf_idf = compute_tf_idf(tokenized_sents, use_idf = True)\n",
    "summary = get_summary(tf_idf, sents, topN = 5)\n",
    "\n",
    "for sent in summary:\n",
    "    print(sent,\"\\n\")"
   ]
  },
  {
   "cell_type": "code",
   "execution_count": 87,
   "metadata": {},
   "outputs": [
    {
     "name": "stdout",
     "output_type": "stream",
     "text": [
      "It is difficult to anticipate just how these tools might be used at different levels of your organization, but the best way to get an understanding of this tech may be for you and other leaders in your firm to adopt it yourselves. \n",
      "\n",
      "Powerful generalizable language-based AI tools like Elicit are here, and they are just the tip of the iceberg; multimodal foundation model-based tools are poised to transform business in ways that are still difficult to predict. \n",
      "\n",
      "And don’t forget to adopt these technologies yourself — this is the best way for you to start to understand their future roles in your organization. \n",
      "\n",
      "Don’t bet the boat on it because some of the tech may not work out, but if your team gains a better understanding of what is possible, then you will be ahead of the competition. \n",
      "\n",
      "You are certainly aware of the value of data, but you still may be overlooking some essential data assets if you are not utilizing text analytics and NLP throughout your organization. \n",
      "\n"
     ]
    }
   ],
   "source": [
    "# test with the option lemmatized=False, remove_stopword=False\n",
    "\n",
    "sents, tokenized_sents = preprocess(text, lemmatized=False, remove_stopword=False, remove_punctuation = True )\n",
    "tf_idf = compute_tf_idf(tokenized_sents, use_idf = True)\n",
    "summary = get_summary(tf_idf, sents, topN = 5)\n",
    "for sent in summary:\n",
    "   print(sent,\"\\n\")\n",
    "\n"
   ]
  },
  {
   "cell_type": "code",
   "execution_count": 88,
   "metadata": {},
   "outputs": [
    {
     "name": "stdout",
     "output_type": "stream",
     "text": [
      "Powerful generalizable language-based AI tools like Elicit are here, and they are just the tip of the iceberg; multimodal foundation model-based tools are poised to transform business in ways that are still difficult to predict. \n",
      "\n",
      "Begin incorporating new language-based AI tools for a variety of tasks to better understand their capabilities.. \n",
      "\n",
      "Models like GPT-3 are considered to be foundation models — an emerging AI research area — which also work for other types of data such as images and video. \n",
      "\n",
      "Understand how you might leverage AI-based language technologies to make better decisions or reorganize your skilled labor.. Language-based AI won’t replace jobs, but it will automate many tasks, even for decision makers. \n",
      "\n",
      "A Language-Based AI Research Assistant. \n",
      "\n"
     ]
    }
   ],
   "source": [
    "# test with the option use_idf = False\n",
    "\n",
    "sents, tokenized_sents = preprocess(text)\n",
    "tf_idf = compute_tf_idf(tokenized_sents, use_idf = False)\n",
    "summary = get_summary(tf_idf, sents, topN = 5)\n",
    "for sent in summary:\n",
    "   print(sent,\"\\n\")"
   ]
  },
  {
   "cell_type": "markdown",
   "metadata": {
    "id": "4l0bXLQG-4KO"
   },
   "source": [
    "### Q2.5. Analysis (1 point, 0.5 point for Q1, and 0.5 for all the others)\n",
    "\n",
    "- Do you think the way to quantify concreteness makes sense? Any other thoughts to measure concreteness or abstractness? Share your ideas in pdf or markdown.\n",
    "\n",
    "\n",
    "\n",
    "\n",
    "- Do you think this method is able to generate a good summary? Any pros or cons have you observed? (0.5 point)\n",
    "\n",
    "\n",
    "\n",
    "\n",
    "- Do these options `lemmatized, remove_stopword, remove_punctuation, use_idf` matter? \n",
    "- Why do you think these options matter or do not matter? \n",
    "- If these options matter, what are the best values for these options?\n",
    "\n",
    "\n",
    "\n"
   ]
  },
  {
   "cell_type": "markdown",
   "metadata": {},
   "source": [
    "#### answers:\n",
    "- In my opnion, quantify concreteness makes sense.\n",
    "\n",
    "- These methods produce a pretty good summary to some extent. The shortcoming, however, is that there are certain limitations that restrict the criteria for measurement.\n",
    "\n",
    "- These options are necessary. This is because by them it is possible to produce results with different precision."
   ]
  },
  {
   "cell_type": "markdown",
   "metadata": {
    "id": "ZIyY8lIr-4KP"
   },
   "source": [
    "## Q2.5. (Bonus 1 point). \n",
    "\n",
    "`While the idea is proposed, it must be implemented. `\n",
    "\n",
    "\n",
    "- Can you think a way to improve this extractive summary method? Explain the method you propose for improvement,  implement it, use it to generate a new summary, and demonstrate what is improved in the new summary.\n",
    "\n",
    "**Sample Answer**\n",
    "\n",
    "\n",
    "A: If an article have sentences repeats themselves and if one of the repeated sentences is selected, the other will be selected too. It is hard to ensure the diverity of the sentences in the summary.  To ensure diversity, tor example, this algorithm can be improved using **max-min** method: \n",
    "1. Select top 10 (or more) sentences as before as candidates. \n",
    "1. Add top 1 from the candidates into the summary, \n",
    "1. gradually add other sentences such that each of them is **least similar** to those aleady added. \n",
    "An implementation is provided. See if it's better!\n",
    "\n",
    "\n",
    "\n",
    "\n",
    "- Or, you can research on some other extractive summary methods and implement one here. Compare it with the one you implemented in Q2.1-Q2.3 and show pros and cons of each method.\n",
    "\n",
    "*Another alogithm can be selecting the sentences which have the largest total word tf-idf scores. For implementation, see https://towardsdatascience.com/text-summarization-using-tf-idf-e64a0644ace3*"
   ]
  },
  {
   "cell_type": "code",
   "execution_count": 19,
   "metadata": {},
   "outputs": [],
   "source": [
    "def get_summary_with_diversity(tf_idf, sents, topN = 5):\n",
    "    \n",
    "   \n",
    "    #add your codes\n",
    "\n",
    "\n",
    "\n",
    "    return summary "
   ]
  },
  {
   "cell_type": "code",
   "execution_count": 20,
   "metadata": {},
   "outputs": [
    {
     "name": "stdout",
     "output_type": "stream",
     "text": [
      "Think of finance. \n",
      "\n",
      "How Can Organizations Prepare for the Future?. \n",
      "\n",
      "The original suggestion itself wasn’t perfect, but it reminded me of some critical topics that I had overlooked, and I revised the article accordingly. \n",
      "\n",
      "What NLP Can Do. \n",
      "\n",
      "Yet while these stunts may be attention grabbing, are they really indicative of what this tech can do for businesses?. \n",
      "\n"
     ]
    }
   ],
   "source": [
    "summary = get_summary_with_diversity(tf_idf, sents, topN = 5)\n",
    "\n",
    "for sent in summary:\n",
    "    print(sent,\"\\n\")"
   ]
  },
  {
   "cell_type": "code",
   "execution_count": null,
   "metadata": {},
   "outputs": [],
   "source": []
  }
 ],
 "metadata": {
  "colab": {
   "collapsed_sections": [],
   "name": "HW_4.ipynb",
   "provenance": []
  },
  "kernelspec": {
   "display_name": "Python 3.8.13",
   "language": "python",
   "name": "python3"
  },
  "language_info": {
   "codemirror_mode": {
    "name": "ipython",
    "version": 3
   },
   "file_extension": ".py",
   "mimetype": "text/x-python",
   "name": "python",
   "nbconvert_exporter": "python",
   "pygments_lexer": "ipython3",
   "version": "3.8.13"
  },
  "latex_envs": {
   "LaTeX_envs_menu_present": true,
   "autoclose": false,
   "autocomplete": true,
   "bibliofile": "biblio.bib",
   "cite_by": "apalike",
   "current_citInitial": 1,
   "eqLabelWithNumbers": true,
   "eqNumInitial": 1,
   "hotkeys": {
    "equation": "Ctrl-E",
    "itemize": "Ctrl-I"
   },
   "labels_anchors": false,
   "latex_user_defs": false,
   "report_style_numbering": false,
   "user_envs_cfg": false
  },
  "toc": {
   "base_numbering": 1,
   "nav_menu": {},
   "number_sections": true,
   "sideBar": true,
   "skip_h1_title": false,
   "title_cell": "Table of Contents",
   "title_sidebar": "Contents",
   "toc_cell": true,
   "toc_position": {},
   "toc_section_display": true,
   "toc_window_display": false
  },
  "vscode": {
   "interpreter": {
    "hash": "d7288e82646d3164eca24130947288f8779d11454649f2c02a5dfc42af7f324c"
   }
  }
 },
 "nbformat": 4,
 "nbformat_minor": 4
}
